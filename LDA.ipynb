{
 "cells": [
  {
   "cell_type": "markdown",
   "metadata": {},
   "source": [
    "`Zoumana KEITA, Data Scientist`\n",
    "\n",
    "# Latent Dirichlet Allocation / Analysis (LDA)     \n",
    "\n",
    "**Note**: you will need to unzip the data from the `data` folder in order to follow this notebook.  \n",
    "\n",
    "This is a probabilistic model used to find clusters assigments for documents.  \n",
    "It uses two probability values to cluster documents: \n",
    "- **P(word | topic)**: the probability that a particular word is associated with a particular topic. This first set of probability is also considered as the **Word X Topic** matrix.  \n",
    "- **P(topics | documents)**: the topics associated with documents. This second set of probability is considered as **Topics X Documents** matrix.   \n",
    "These probability values are calculated for all words, topics and documents.    \n",
    "\n",
    "For this tutorial, we will be using the dataset of the Australian Broadcasting Corporation, available on kaggle:   \n",
    "https://www.kaggle.com/therohk/million-headlines "
   ]
  },
  {
   "cell_type": "code",
   "execution_count": 2,
   "metadata": {},
   "outputs": [],
   "source": [
    "import pandas as pd\n",
    "import matplotlib.pyplot as plt\n",
    "from sklearn.feature_extraction.text import CountVectorizer\n",
    "from sklearn.decomposition import LatentDirichletAllocation"
   ]
  },
  {
   "cell_type": "code",
   "execution_count": 3,
   "metadata": {},
   "outputs": [],
   "source": [
    "news_data = pd.read_csv(\"./data/news-data.csv\")"
   ]
  },
  {
   "cell_type": "code",
   "execution_count": 5,
   "metadata": {},
   "outputs": [
    {
     "data": {
      "text/plain": [
       "(1103663, 2)"
      ]
     },
     "execution_count": 5,
     "metadata": {},
     "output_type": "execute_result"
    }
   ],
   "source": [
    "news_data.shape"
   ]
  },
  {
   "cell_type": "code",
   "execution_count": 6,
   "metadata": {},
   "outputs": [
    {
     "data": {
      "text/html": [
       "<div>\n",
       "<style scoped>\n",
       "    .dataframe tbody tr th:only-of-type {\n",
       "        vertical-align: middle;\n",
       "    }\n",
       "\n",
       "    .dataframe tbody tr th {\n",
       "        vertical-align: top;\n",
       "    }\n",
       "\n",
       "    .dataframe thead th {\n",
       "        text-align: right;\n",
       "    }\n",
       "</style>\n",
       "<table border=\"1\" class=\"dataframe\">\n",
       "  <thead>\n",
       "    <tr style=\"text-align: right;\">\n",
       "      <th></th>\n",
       "      <th>publish_date</th>\n",
       "      <th>headline_text</th>\n",
       "    </tr>\n",
       "  </thead>\n",
       "  <tbody>\n",
       "    <tr>\n",
       "      <th>0</th>\n",
       "      <td>20030219</td>\n",
       "      <td>aba decides against community broadcasting lic...</td>\n",
       "    </tr>\n",
       "    <tr>\n",
       "      <th>1</th>\n",
       "      <td>20030219</td>\n",
       "      <td>act fire witnesses must be aware of defamation</td>\n",
       "    </tr>\n",
       "    <tr>\n",
       "      <th>2</th>\n",
       "      <td>20030219</td>\n",
       "      <td>a g calls for infrastructure protection summit</td>\n",
       "    </tr>\n",
       "    <tr>\n",
       "      <th>3</th>\n",
       "      <td>20030219</td>\n",
       "      <td>air nz staff in aust strike for pay rise</td>\n",
       "    </tr>\n",
       "    <tr>\n",
       "      <th>4</th>\n",
       "      <td>20030219</td>\n",
       "      <td>air nz strike to affect australian travellers</td>\n",
       "    </tr>\n",
       "  </tbody>\n",
       "</table>\n",
       "</div>"
      ],
      "text/plain": [
       "   publish_date                                      headline_text\n",
       "0      20030219  aba decides against community broadcasting lic...\n",
       "1      20030219     act fire witnesses must be aware of defamation\n",
       "2      20030219     a g calls for infrastructure protection summit\n",
       "3      20030219           air nz staff in aust strike for pay rise\n",
       "4      20030219      air nz strike to affect australian travellers"
      ]
     },
     "execution_count": 6,
     "metadata": {},
     "output_type": "execute_result"
    }
   ],
   "source": [
    "news_data.head()"
   ]
  },
  {
   "cell_type": "markdown",
   "metadata": {},
   "source": [
    "Our data have over a million of records, and there are two columns: \n",
    "- the date a particular headline have been published.  \n",
    "- the actual headline.   \n",
    "By looking at the first 5 rows, we can see that we don't have the topic of the headline text! So, we will use LDA to attempt to figure out clusters of the news.   \n",
    "**A million** of record, that is a lot of data. To do so, we will use only **12000** records to make the computation faster.   "
   ]
  },
  {
   "cell_type": "markdown",
   "metadata": {},
   "source": [
    "## Preprocessing.    "
   ]
  },
  {
   "cell_type": "code",
   "execution_count": 7,
   "metadata": {},
   "outputs": [],
   "source": [
    "NUM_SAMPLES = 12000 # The number of sample to use "
   ]
  },
  {
   "cell_type": "code",
   "execution_count": 8,
   "metadata": {},
   "outputs": [],
   "source": [
    "sample_df = news_data.sample(NUM_SAMPLES, replace=False).reset_index(drop=True)"
   ]
  },
  {
   "cell_type": "code",
   "execution_count": 9,
   "metadata": {},
   "outputs": [
    {
     "data": {
      "text/plain": [
       "(12000, 2)"
      ]
     },
     "execution_count": 9,
     "metadata": {},
     "output_type": "execute_result"
    }
   ],
   "source": [
    "sample_df.shape"
   ]
  },
  {
   "cell_type": "code",
   "execution_count": 10,
   "metadata": {},
   "outputs": [
    {
     "data": {
      "text/html": [
       "<div>\n",
       "<style scoped>\n",
       "    .dataframe tbody tr th:only-of-type {\n",
       "        vertical-align: middle;\n",
       "    }\n",
       "\n",
       "    .dataframe tbody tr th {\n",
       "        vertical-align: top;\n",
       "    }\n",
       "\n",
       "    .dataframe thead th {\n",
       "        text-align: right;\n",
       "    }\n",
       "</style>\n",
       "<table border=\"1\" class=\"dataframe\">\n",
       "  <thead>\n",
       "    <tr style=\"text-align: right;\">\n",
       "      <th></th>\n",
       "      <th>publish_date</th>\n",
       "      <th>headline_text</th>\n",
       "    </tr>\n",
       "  </thead>\n",
       "  <tbody>\n",
       "    <tr>\n",
       "      <th>0</th>\n",
       "      <td>20060531</td>\n",
       "      <td>closer am1</td>\n",
       "    </tr>\n",
       "    <tr>\n",
       "      <th>1</th>\n",
       "      <td>20121017</td>\n",
       "      <td>national rural news for wednesday 171012</td>\n",
       "    </tr>\n",
       "    <tr>\n",
       "      <th>2</th>\n",
       "      <td>20090109</td>\n",
       "      <td>bail has been granted in a perth court to three</td>\n",
       "    </tr>\n",
       "    <tr>\n",
       "      <th>3</th>\n",
       "      <td>20170814</td>\n",
       "      <td>barnaby joyce caught up in citizenship debacle</td>\n",
       "    </tr>\n",
       "    <tr>\n",
       "      <th>4</th>\n",
       "      <td>20070423</td>\n",
       "      <td>police investigate portland abduction attempt sex</td>\n",
       "    </tr>\n",
       "  </tbody>\n",
       "</table>\n",
       "</div>"
      ],
      "text/plain": [
       "   publish_date                                      headline_text\n",
       "0      20060531                                         closer am1\n",
       "1      20121017           national rural news for wednesday 171012\n",
       "2      20090109    bail has been granted in a perth court to three\n",
       "3      20170814     barnaby joyce caught up in citizenship debacle\n",
       "4      20070423  police investigate portland abduction attempt sex"
      ]
     },
     "execution_count": 10,
     "metadata": {},
     "output_type": "execute_result"
    }
   ],
   "source": [
    "sample_df.head()"
   ]
  },
  {
   "cell_type": "markdown",
   "metadata": {},
   "source": [
    "We are not interested in the **publish_data** column, since we will only be using **headline_text** data.  "
   ]
  },
  {
   "cell_type": "markdown",
   "metadata": {},
   "source": [
    "**`max_df`**` : float in range [0.0, 1.0] or int, default=1.0`<br>\n",
    "When building the vocabulary ignore terms that have a document frequency strictly higher than the given threshold (corpus-specific stop words). If float, the parameter represents a proportion of documents, integer absolute counts. This parameter is ignored if vocabulary is not None.\n",
    "\n",
    "**`min_df`**` : float in range [0.0, 1.0] or int, default=1`<br>\n",
    "When building the vocabulary ignore terms that have a document frequency strictly lower than the given threshold. This value is also called cut-off in the literature. If float, the parameter represents a proportion of documents, integer absolute counts. This parameter is ignored if vocabulary is not None."
   ]
  },
  {
   "cell_type": "markdown",
   "metadata": {},
   "source": [
    "Be defining the **CountVectorizer** object as below, we ignore:   \n",
    "- all terms that occur over 95% times in our document corpus. We say in this case that the terms occuring more than this threshold are not significant, most of them are  `stopwords`.   \n",
    "\n",
    "- all the terms that occur fewer than twice in the entire corpus.  "
   ]
  },
  {
   "cell_type": "code",
   "execution_count": 27,
   "metadata": {},
   "outputs": [],
   "source": [
    "cv = CountVectorizer(max_df=0.95, min_df=2, stop_words=\"english\")"
   ]
  },
  {
   "cell_type": "code",
   "execution_count": 28,
   "metadata": {},
   "outputs": [],
   "source": [
    "dtm = cv.fit_transform(sample_df['headline_text'])"
   ]
  },
  {
   "cell_type": "code",
   "execution_count": 29,
   "metadata": {},
   "outputs": [
    {
     "data": {
      "text/plain": [
       "<12000x6506 sparse matrix of type '<class 'numpy.int64'>'\n",
       "\twith 54104 stored elements in Compressed Sparse Row format>"
      ]
     },
     "execution_count": 29,
     "metadata": {},
     "output_type": "execute_result"
    }
   ],
   "source": [
    "dtm"
   ]
  },
  {
   "cell_type": "markdown",
   "metadata": {},
   "source": [
    "We can observe that our Document X Term Matrix (dtm) has:  \n",
    "- 12000 documents, and.  \n",
    "- 6506 distinct words   \n",
    "\n",
    "We can also get all those words using the `get_feature_names()` function"
   ]
  },
  {
   "cell_type": "code",
   "execution_count": 30,
   "metadata": {},
   "outputs": [
    {
     "data": {
      "text/plain": [
       "6506"
      ]
     },
     "execution_count": 30,
     "metadata": {},
     "output_type": "execute_result"
    }
   ],
   "source": [
    "feature_names = cv.get_feature_names()\n",
    "len(feature_names) # show the total number of distinct words"
   ]
  },
  {
   "cell_type": "markdown",
   "metadata": {},
   "source": [
    "Let's have a look at some of the features that have been extracted from the documents.  "
   ]
  },
  {
   "cell_type": "code",
   "execution_count": 31,
   "metadata": {},
   "outputs": [
    {
     "data": {
      "text/plain": [
       "['zidane', 'zimbabwe', 'zone', 'zoo', 'zoos', 'zvonareva']"
      ]
     },
     "execution_count": 31,
     "metadata": {},
     "output_type": "execute_result"
    }
   ],
   "source": [
    "feature_names[6500:]"
   ]
  },
  {
   "cell_type": "markdown",
   "metadata": {},
   "source": [
    "## LDA.     \n",
    "From our DTM matrix, we can now build our LDA to extract topics from the underlined texts. The number of topic to be extracted is a hyperparameter, so we do not know it a a glance. In our case, we will be using 7 topics.   \n",
    "LDA is an iterative algorithm, we will have 30 iterations in our case, but the default value is 10.  "
   ]
  },
  {
   "cell_type": "code",
   "execution_count": 32,
   "metadata": {},
   "outputs": [],
   "source": [
    "NUM_TOPICS = 7"
   ]
  },
  {
   "cell_type": "code",
   "execution_count": 33,
   "metadata": {},
   "outputs": [],
   "source": [
    "LDA_model = LatentDirichletAllocation(n_components=NUM_TOPICS, max_iter=30, random_state=42)"
   ]
  },
  {
   "cell_type": "code",
   "execution_count": 39,
   "metadata": {},
   "outputs": [
    {
     "data": {
      "text/plain": [
       "LatentDirichletAllocation(max_iter=30, n_components=7, random_state=42)"
      ]
     },
     "execution_count": 39,
     "metadata": {},
     "output_type": "execute_result"
    }
   ],
   "source": [
    "LDA_model.fit(dtm)"
   ]
  },
  {
   "cell_type": "markdown",
   "metadata": {},
   "source": [
    "## Show Stored Words.   \n",
    "Let's randomnly have a look at some words of that have been stored.  "
   ]
  },
  {
   "cell_type": "code",
   "execution_count": 41,
   "metadata": {},
   "outputs": [
    {
     "data": {
      "text/plain": [
       "6506"
      ]
     },
     "execution_count": 41,
     "metadata": {},
     "output_type": "execute_result"
    }
   ],
   "source": [
    "len(feature_names)"
   ]
  },
  {
   "cell_type": "code",
   "execution_count": 42,
   "metadata": {},
   "outputs": [
    {
     "name": "stdout",
     "output_type": "stream",
     "text": [
      "roper\n",
      "victory\n",
      "rescues\n",
      "firefighting\n",
      "passionate\n",
      "hired\n",
      "blackouts\n",
      "vegie\n",
      "area\n",
      "spurs\n",
      "swimming\n",
      "jamaican\n",
      "verdict\n",
      "seven\n",
      "rolf\n"
     ]
    }
   ],
   "source": [
    "import random \n",
    "for index in range(15):\n",
    "    random_word_ID = random.randint(0, 6506)\n",
    "    print(cv.get_feature_names()[random_word_ID])"
   ]
  },
  {
   "cell_type": "markdown",
   "metadata": {},
   "source": [
    "### Top Words Per Topic"
   ]
  },
  {
   "cell_type": "code",
   "execution_count": 48,
   "metadata": {},
   "outputs": [
    {
     "data": {
      "text/plain": [
       "6506"
      ]
     },
     "execution_count": 48,
     "metadata": {},
     "output_type": "execute_result"
    }
   ],
   "source": [
    "len(LDA_model.components_[0])"
   ]
  },
  {
   "cell_type": "code",
   "execution_count": 50,
   "metadata": {},
   "outputs": [
    {
     "data": {
      "text/plain": [
       "array([ 597, 3660, 5316, ..., 5070, 3921, 3598])"
      ]
     },
     "execution_count": 50,
     "metadata": {},
     "output_type": "execute_result"
    }
   ],
   "source": [
    "# Pick a single topic \n",
    "a_topic = LDA_model.components_[0]\n",
    "\n",
    "# Get the indices that would sort this array\n",
    "a_topic.argsort()"
   ]
  },
  {
   "cell_type": "code",
   "execution_count": 54,
   "metadata": {},
   "outputs": [
    {
     "data": {
      "text/plain": [
       "0.14285721794371803"
      ]
     },
     "execution_count": 54,
     "metadata": {},
     "output_type": "execute_result"
    }
   ],
   "source": [
    "# The word least representative of this topic\n",
    "a_topic[597]"
   ]
  },
  {
   "cell_type": "code",
   "execution_count": 53,
   "metadata": {},
   "outputs": [
    {
     "data": {
      "text/plain": [
       "67.14227858485086"
      ]
     },
     "execution_count": 53,
     "metadata": {},
     "output_type": "execute_result"
    }
   ],
   "source": [
    "# The word most representative of this topic\n",
    "a_topic[3598]"
   ]
  },
  {
   "cell_type": "markdown",
   "metadata": {},
   "source": [
    "Let have a look at the top 10 words for the topic we previously took"
   ]
  },
  {
   "cell_type": "code",
   "execution_count": 57,
   "metadata": {},
   "outputs": [
    {
     "name": "stdout",
     "output_type": "stream",
     "text": [
      "news\n",
      "local\n",
      "kills\n",
      "govt\n",
      "land\n",
      "sydney\n",
      "time\n",
      "says\n",
      "new\n",
      "market\n"
     ]
    }
   ],
   "source": [
    "top_10_words_indices = a_topic.argsort()[-10:]\n",
    "\n",
    "for i in top_10_words_indices:\n",
    "    print(cv.get_feature_names()[i])"
   ]
  },
  {
   "cell_type": "markdown",
   "metadata": {},
   "source": [
    "This looks like Government Article. Let's have a look at all the 7 topics found. "
   ]
  },
  {
   "cell_type": "code",
   "execution_count": 60,
   "metadata": {},
   "outputs": [
    {
     "name": "stdout",
     "output_type": "stream",
     "text": [
      "THE TOP 10 WORDS FOR TOPIC #0\n",
      "['news', 'local', 'kills', 'govt', 'land', 'sydney', 'time', 'says', 'new', 'market']\n",
      "\n",
      "\n",
      "THE TOP 10 WORDS FOR TOPIC #1\n",
      "['north', 'rise', 'wa', 'calls', 'continues', 'health', 'council', 'crash', 'qld', 'new']\n",
      "\n",
      "\n",
      "THE TOP 10 WORDS FOR TOPIC #2\n",
      "['child', 'report', 'government', 'dies', 'gold', 'set', 'workers', 'win', 'coast', 'interview']\n",
      "\n",
      "\n",
      "THE TOP 10 WORDS FOR TOPIC #3\n",
      "['death', 'wa', 'begins', 'australian', 'power', 'high', 'election', 'plan', 'says', 'water']\n",
      "\n",
      "\n",
      "THE TOP 10 WORDS FOR TOPIC #4\n",
      "['abc', 'rural', 'takes', 'rain', 'farmers', 'defends', 'hour', 'country', 'nsw', 'day']\n",
      "\n",
      "\n",
      "THE TOP 10 WORDS FOR TOPIC #5\n",
      "['face', 'cup', 'deal', 'faces', 'mp', 'hit', 'urged', 'group', 'council', 'govt']\n",
      "\n",
      "\n",
      "THE TOP 10 WORDS FOR TOPIC #6\n",
      "['attack', 'charges', 'death', 'accused', 'charged', 'woman', 'murder', 'court', 'man', 'police']\n",
      "\n",
      "\n"
     ]
    }
   ],
   "source": [
    "for i, topic in enumerate(LDA_model.components_):\n",
    "    print(\"THE TOP {} WORDS FOR TOPIC #{}\".format(10, i))\n",
    "    print([cv.get_feature_names()[index] for index in topic.argsort()[-10:]])\n",
    "    print(\"\\n\")"
   ]
  },
  {
   "cell_type": "markdown",
   "metadata": {},
   "source": [
    "### Attach Discovered Topic Labels to Original News"
   ]
  },
  {
   "cell_type": "code",
   "execution_count": 61,
   "metadata": {},
   "outputs": [
    {
     "data": {
      "text/plain": [
       "(12000, 7)"
      ]
     },
     "execution_count": 61,
     "metadata": {},
     "output_type": "execute_result"
    }
   ],
   "source": [
    "final_topics = LDA_model.transform(dtm)\n",
    "final_topics.shape"
   ]
  },
  {
   "cell_type": "markdown",
   "metadata": {},
   "source": [
    "**final_topics** contains, for each of our 12000 documents, the probability score of how likely a document belongs to each of the 7 topics.  This is a Document X Topics matrix. \n",
    "For example, below is the probability values for the first document."
   ]
  },
  {
   "cell_type": "code",
   "execution_count": 63,
   "metadata": {},
   "outputs": [
    {
     "data": {
      "text/plain": [
       "array([0.04761906, 0.04761906, 0.04761906, 0.04761906, 0.71428564,\n",
       "       0.04761906, 0.04761906])"
      ]
     },
     "execution_count": 63,
     "metadata": {},
     "output_type": "execute_result"
    }
   ],
   "source": [
    "final_topics[0]"
   ]
  },
  {
   "cell_type": "code",
   "execution_count": 64,
   "metadata": {},
   "outputs": [
    {
     "data": {
      "text/plain": [
       "4"
      ]
     },
     "execution_count": 64,
     "metadata": {},
     "output_type": "execute_result"
    }
   ],
   "source": [
    "final_topics[0].argmax()"
   ]
  },
  {
   "cell_type": "markdown",
   "metadata": {},
   "source": [
    "This value (4) means that our LDA model thinks that the first document belongs to the 4th topic"
   ]
  },
  {
   "cell_type": "markdown",
   "metadata": {},
   "source": [
    "### Combination with the original data     \n",
    "Let's create a new column that will contain the topic value for each document.   "
   ]
  },
  {
   "cell_type": "code",
   "execution_count": 65,
   "metadata": {},
   "outputs": [],
   "source": [
    "sample_df[\"Topic N°\"] = final_topics.argmax(axis=1)"
   ]
  },
  {
   "cell_type": "code",
   "execution_count": 66,
   "metadata": {},
   "outputs": [
    {
     "data": {
      "text/html": [
       "<div>\n",
       "<style scoped>\n",
       "    .dataframe tbody tr th:only-of-type {\n",
       "        vertical-align: middle;\n",
       "    }\n",
       "\n",
       "    .dataframe tbody tr th {\n",
       "        vertical-align: top;\n",
       "    }\n",
       "\n",
       "    .dataframe thead th {\n",
       "        text-align: right;\n",
       "    }\n",
       "</style>\n",
       "<table border=\"1\" class=\"dataframe\">\n",
       "  <thead>\n",
       "    <tr style=\"text-align: right;\">\n",
       "      <th></th>\n",
       "      <th>publish_date</th>\n",
       "      <th>headline_text</th>\n",
       "      <th>Topic N°</th>\n",
       "    </tr>\n",
       "  </thead>\n",
       "  <tbody>\n",
       "    <tr>\n",
       "      <th>0</th>\n",
       "      <td>20060531</td>\n",
       "      <td>closer am1</td>\n",
       "      <td>4</td>\n",
       "    </tr>\n",
       "    <tr>\n",
       "      <th>1</th>\n",
       "      <td>20121017</td>\n",
       "      <td>national rural news for wednesday 171012</td>\n",
       "      <td>4</td>\n",
       "    </tr>\n",
       "    <tr>\n",
       "      <th>2</th>\n",
       "      <td>20090109</td>\n",
       "      <td>bail has been granted in a perth court to three</td>\n",
       "      <td>6</td>\n",
       "    </tr>\n",
       "    <tr>\n",
       "      <th>3</th>\n",
       "      <td>20170814</td>\n",
       "      <td>barnaby joyce caught up in citizenship debacle</td>\n",
       "      <td>1</td>\n",
       "    </tr>\n",
       "    <tr>\n",
       "      <th>4</th>\n",
       "      <td>20070423</td>\n",
       "      <td>police investigate portland abduction attempt sex</td>\n",
       "      <td>6</td>\n",
       "    </tr>\n",
       "  </tbody>\n",
       "</table>\n",
       "</div>"
      ],
      "text/plain": [
       "   publish_date                                      headline_text  Topic N°\n",
       "0      20060531                                         closer am1         4\n",
       "1      20121017           national rural news for wednesday 171012         4\n",
       "2      20090109    bail has been granted in a perth court to three         6\n",
       "3      20170814     barnaby joyce caught up in citizenship debacle         1\n",
       "4      20070423  police investigate portland abduction attempt sex         6"
      ]
     },
     "execution_count": 66,
     "metadata": {},
     "output_type": "execute_result"
    }
   ],
   "source": [
    "sample_df.head()"
   ]
  },
  {
   "cell_type": "markdown",
   "metadata": {},
   "source": [
    "According to our LDA model:   \n",
    "- the first document belongs to 4th topic.  \n",
    "- the second document belongs to 4th topic. \n",
    "- the third document belongs to 6th topic.  \n",
    "etc.   "
   ]
  },
  {
   "cell_type": "markdown",
   "metadata": {},
   "source": [
    "# Some Visualization       \n",
    "We will be using the `pyldavis` module to visualize the topics associated to our documents.   "
   ]
  },
  {
   "cell_type": "code",
   "execution_count": 68,
   "metadata": {},
   "outputs": [],
   "source": [
    "#!pip install pyldavis"
   ]
  },
  {
   "cell_type": "code",
   "execution_count": 75,
   "metadata": {},
   "outputs": [],
   "source": [
    "import pyLDAvis.sklearn"
   ]
  },
  {
   "cell_type": "code",
   "execution_count": 71,
   "metadata": {},
   "outputs": [],
   "source": [
    "pyLDAvis.enable_notebook()"
   ]
  },
  {
   "cell_type": "code",
   "execution_count": 72,
   "metadata": {},
   "outputs": [],
   "source": [
    "#transformed_vector = dtm\n",
    "#lda_model = final_topics"
   ]
  },
  {
   "cell_type": "code",
   "execution_count": 77,
   "metadata": {},
   "outputs": [],
   "source": [
    "panel = pyLDAvis.sklearn.prepare(LDA_model, dtm, cv, mds='tsne')"
   ]
  },
  {
   "cell_type": "code",
   "execution_count": 78,
   "metadata": {},
   "outputs": [
    {
     "data": {
      "text/html": [
       "\n",
       "<link rel=\"stylesheet\" type=\"text/css\" href=\"https://cdn.rawgit.com/bmabey/pyLDAvis/files/ldavis.v1.0.0.css\">\n",
       "\n",
       "\n",
       "<div id=\"ldavis_el2125452165998802241365685\"></div>\n",
       "<script type=\"text/javascript\">\n",
       "\n",
       "var ldavis_el2125452165998802241365685_data = {\"mdsDat\": {\"x\": [-29.59400177001953, -45.996585845947266, 20.36885643005371, 53.928768157958984, -12.437127113342285, 3.9659712314605713, 37.52428436279297], \"y\": [60.11271286010742, 11.891684532165527, 70.01932525634766, 31.704309463500977, -26.423267364501953, 21.797719955444336, -16.517805099487305], \"topics\": [1, 2, 3, 4, 5, 6, 7], \"cluster\": [1, 1, 1, 1, 1, 1, 1], \"Freq\": [16.34299631117751, 15.567999963486434, 14.8460182502801, 14.313388803566832, 13.316625810859767, 12.985313454880682, 12.627657405748662]}, \"tinfo\": {\"Term\": [\"police\", \"man\", \"water\", \"court\", \"new\", \"qld\", \"murder\", \"woman\", \"charged\", \"coast\", \"day\", \"interview\", \"accused\", \"country\", \"nsw\", \"crash\", \"market\", \"hour\", \"defends\", \"election\", \"group\", \"guilty\", \"govt\", \"assault\", \"gold\", \"farmers\", \"win\", \"rain\", \"workers\", \"set\", \"police\", \"man\", \"murder\", \"woman\", \"charged\", \"accused\", \"guilty\", \"assault\", \"jailed\", \"shooting\", \"bail\", \"stabbing\", \"hears\", \"brawl\", \"officer\", \"rape\", \"robbery\", \"major\", \"thai\", \"invasion\", \"suspicious\", \"israeli\", \"terrorism\", \"arrest\", \"miners\", \"gaza\", \"killing\", \"qantas\", \"manslaughter\", \"bashing\", \"court\", \"alleged\", \"arrested\", \"charges\", \"teen\", \"appeal\", \"attack\", \"sex\", \"case\", \"missing\", \"charge\", \"killed\", \"iraq\", \"trial\", \"death\", \"probe\", \"seek\", \"crash\", \"hunt\", \"car\", \"child\", \"home\", \"sydney\", \"public\", \"waste\", \"rio\", \"money\", \"fires\", \"gun\", \"reveal\", \"aged\", \"seized\", \"university\", \"ease\", \"giant\", \"spending\", \"repair\", \"remains\", \"group\", \"exploration\", \"burn\", \"explosion\", \"uranium\", \"blair\", \"faces\", \"cbd\", \"mayors\", \"update\", \"press\", \"process\", \"arrests\", \"mass\", \"insurance\", \"questions\", \"deal\", \"flood\", \"reveals\", \"hub\", \"mp\", \"mayor\", \"cup\", \"hit\", \"urged\", \"face\", \"mining\", \"farm\", \"air\", \"pay\", \"govt\", \"coal\", \"council\", \"residents\", \"gas\", \"funding\", \"future\", \"train\", \"scheme\", \"industry\", \"test\", \"fears\", \"new\", \"plan\", \"australia\", \"nsw\", \"qld\", \"continues\", \"make\", \"rate\", \"france\", \"grand\", \"leadership\", \"nrn\", \"reef\", \"plays\", \"sign\", \"ir\", \"street\", \"revamp\", \"siege\", \"rescued\", \"zealand\", \"facebook\", \"wollongong\", \"aired\", \"jackson\", \"ministers\", \"middle\", \"complex\", \"jobless\", \"slide\", \"build\", \"mandatory\", \"wage\", \"accommodation\", \"broken\", \"oil\", \"rise\", \"drop\", \"closes\", \"better\", \"new\", \"global\", \"calls\", \"boat\", \"crash\", \"plant\", \"company\", \"community\", \"north\", \"health\", \"budget\", \"boost\", \"cuts\", \"wa\", \"warns\", \"city\", \"council\", \"china\", \"prices\", \"injured\", \"search\", \"rural\", \"changes\", \"says\", \"indigenous\", \"south\", \"australian\", \"world\", \"gold\", \"league\", \"considers\", \"award\", \"crews\", \"childcare\", \"porn\", \"options\", \"forward\", \"night\", \"dockers\", \"vietnam\", \"sunshine\", \"knights\", \"hawks\", \"mean\", \"rspca\", \"shoot\", \"asic\", \"abortion\", \"blood\", \"cyclone\", \"swine\", \"weeks\", \"saudi\", \"drinking\", \"cox\", \"richard\", \"vegas\", \"arabia\", \"workers\", \"hundreds\", \"coast\", \"reach\", \"set\", \"sexual\", \"afl\", \"royal\", \"trade\", \"nrl\", \"interview\", \"wild\", \"win\", \"commission\", \"greens\", \"hot\", \"firefighters\", \"abuse\", \"dies\", \"control\", \"canberra\", \"team\", \"government\", \"child\", \"west\", \"parliament\", \"asylum\", \"dog\", \"report\", \"talks\", \"house\", \"home\", \"centre\", \"australia\", \"claims\", \"nsw\", \"drug\", \"water\", \"parents\", \"legal\", \"prompts\", \"released\", \"grain\", \"industrial\", \"board\", \"needs\", \"upgrade\", \"lost\", \"polls\", \"surgery\", \"breakfast\", \"birthday\", \"overseas\", \"struggle\", \"clinton\", \"infrastructure\", \"quit\", \"tsunami\", \"barnett\", \"pain\", \"fast\", \"iron\", \"irrigators\", \"ore\", \"date\", \"moore\", \"queens\", \"planned\", \"begins\", \"long\", \"film\", \"election\", \"high\", \"blaze\", \"price\", \"toll\", \"power\", \"festival\", \"poll\", \"record\", \"plan\", \"climate\", \"close\", \"wants\", \"bush\", \"warning\", \"announces\", \"says\", \"victims\", \"continue\", \"australian\", \"tour\", \"season\", \"pakistan\", \"wa\", \"death\", \"end\", \"health\", \"report\", \"push\", \"council\", \"market\", \"time\", \"land\", \"fly\", \"bali\", \"september\", \"office\", \"cleared\", \"ponting\", \"roar\", \"held\", \"happy\", \"monday\", \"results\", \"analysis\", \"africa\", \"dump\", \"wednesday\", \"phoenix\", \"territory\", \"rising\", \"jets\", \"mariners\", \"revealed\", \"roosters\", \"banned\", \"bombing\", \"heavy\", \"sharapova\", \"bomber\", \"kills\", \"week\", \"blues\", \"suicide\", \"sea\", \"rejects\", \"northern\", \"ready\", \"admits\", \"podcast\", \"stay\", \"emergency\", \"local\", \"stop\", \"sydney\", \"nz\", \"news\", \"says\", \"new\", \"puts\", \"strike\", \"10\", \"dead\", \"govt\", \"killed\", \"life\", \"pakistan\", \"years\", \"interview\", \"council\", \"open\", \"south\", \"day\", \"country\", \"hour\", \"defends\", \"rain\", \"vic\", \"closer\", \"2014\", \"way\", \"teens\", \"camp\", \"2013\", \"iran\", \"tuesday\", \"thursday\", \"opening\", \"blog\", \"january\", \"entertainment\", \"sacked\", \"surf\", \"16\", \"licence\", \"june\", \"august\", \"event\", \"ben\", \"stage\", \"presidential\", \"am1\", \"farmers\", \"drought\", \"takes\", \"2015\", \"risk\", \"markets\", \"abc\", \"nsw\", \"rudd\", \"return\", \"second\", \"live\", \"start\", \"rural\", \"school\", \"students\", \"ban\", \"news\", \"year\", \"national\", \"queensland\", \"open\", \"wa\", \"business\", \"new\", \"interview\"], \"Freq\": [346.0, 273.0, 126.0, 169.0, 282.0, 115.0, 97.0, 93.0, 92.0, 103.0, 76.0, 139.0, 84.0, 70.0, 125.0, 113.0, 60.0, 54.0, 54.0, 77.0, 65.0, 60.0, 147.0, 59.0, 54.0, 60.0, 93.0, 49.0, 64.0, 69.0, 345.7226792644507, 273.0588193717538, 96.7159655961034, 93.1711750606353, 91.39912921697679, 83.42371207128569, 59.489498297989165, 58.61167733519477, 47.09176420061275, 43.547200143786476, 24.93828851639301, 22.28005035750785, 22.27977345377527, 21.393462432454417, 21.393413550240908, 18.735419274988054, 18.73524797322056, 18.734694177231603, 18.734593896580897, 17.849236311074858, 17.84921477912087, 16.963098343615034, 16.962801740273147, 16.076947800205343, 16.076372816510535, 15.190751840356251, 15.190124166593149, 14.304135606636457, 13.418462769456864, 13.41838626929108, 151.3434749000655, 36.10179611713114, 36.93545748076091, 60.0451711664986, 33.97427194043365, 37.26827107908594, 59.681000352018394, 45.352122358531865, 43.48279303104276, 55.93775768145985, 33.88148071667275, 53.135671653228414, 44.53379368234707, 48.30956873472305, 60.79345611446613, 36.64743268627045, 26.680127925016606, 52.54783028590466, 25.593178503213903, 38.932003295931345, 37.47237708962079, 39.25570418805171, 34.14487547892835, 43.77884011606016, 23.28901890730324, 19.72544153419113, 18.83473673632329, 16.161943867852287, 15.270986112672144, 14.380637604942182, 14.380539051525105, 14.380329391025507, 13.489746736643154, 13.489382955759229, 12.599001856512665, 12.59891481821853, 12.598831528132658, 12.598399897858306, 62.062887337698236, 11.707734705331164, 10.816947046144087, 9.926192004303605, 9.925898449217957, 9.925875083935317, 50.47423579062757, 9.035629386979489, 8.144651471729938, 8.144442558031065, 7.253762728889309, 7.253754992730915, 7.253623954722878, 7.253598003843798, 6.3631557925883415, 21.30842064164008, 49.34926035752584, 37.17627951592118, 25.662668196922876, 12.460473804257285, 51.79486863791052, 33.13422919170087, 49.07180397027803, 53.31307640113608, 55.611490256853635, 46.43584529753795, 36.65495394281206, 28.359021260249104, 22.147187803602094, 33.93384483894539, 76.14387438830653, 25.84497025254808, 73.72139660772304, 31.638243558853357, 27.28348448910135, 35.51621735970835, 26.94881812980374, 20.61811033893481, 25.23242472627741, 27.741134167238215, 28.436671369050238, 28.192430568172927, 43.19801069330265, 31.40654343609189, 29.277674045811445, 24.42922015332528, 114.42629544905088, 44.77481554548392, 35.845295263665015, 31.3809381105379, 20.663996116800075, 18.878839334503027, 17.093509357583557, 17.093450989752636, 16.20020680081838, 16.200077889945767, 15.30732784309864, 13.521559659049565, 13.521480960366654, 13.521212456659514, 12.628309954924465, 10.842343198604635, 9.949934595942192, 9.056756654655015, 9.056562311023232, 9.056532434936843, 9.056494190722631, 8.164004543656679, 7.271019227559516, 7.270635486472103, 6.378313677999676, 6.377991519812061, 6.377901983164707, 6.377738373191728, 6.3777335311615495, 6.377731370663145, 21.429541237766475, 35.36038226161799, 38.32067195498253, 20.467383752925592, 15.878213926450611, 17.094728682631505, 157.98756135106814, 17.0558612689831, 44.03596244806424, 21.387206738343654, 59.815860200162625, 17.06338127013665, 23.93875484243148, 29.53729035521299, 38.256154695046014, 45.46047025540921, 27.345272302886624, 32.080663249303846, 24.684211540464005, 42.311342768033015, 22.35822535176732, 24.279435357401635, 47.176495635796186, 29.03233421642192, 24.537633223787065, 25.0431412057498, 26.72579806360997, 28.485458915108115, 24.89945563739326, 34.20713108647278, 24.840019355265408, 26.793254558600253, 24.07284730429597, 23.21186780369127, 53.58076145737243, 28.635469323777848, 23.289653218589425, 15.272114236129674, 11.708729547842037, 11.708603229617156, 11.708283996109744, 11.70827301691367, 11.701234187535608, 10.817598869319525, 9.926742952770681, 9.92641000868253, 9.035964316353343, 9.035936800681151, 8.145201460063287, 8.144793687800517, 8.144697266200025, 8.144616930938808, 7.253906488524112, 7.253837482035124, 7.253495132322756, 31.89992613356598, 6.363315518047504, 6.363275145820435, 6.363199264703264, 6.3629102543213385, 5.472588548259426, 5.47256866647357, 5.472553630585101, 5.472308281152708, 55.2432855744301, 17.05598431549991, 87.81244426729532, 9.910763473744643, 54.0052133728143, 21.131602297153336, 28.956692953429414, 16.949462546242657, 24.77788906614204, 21.990854379561526, 91.78929838659327, 20.919113421395178, 62.036684452676305, 20.427953431057574, 23.85331923384128, 14.382025857672877, 14.339133107468106, 31.688253335430563, 40.045646384530684, 19.641297340533075, 32.6334337024707, 22.202973939298403, 36.96334302552914, 34.738000471525254, 25.554949714574857, 19.96952063573786, 19.828523325578225, 17.601235553405782, 35.533200582046526, 29.0727461966065, 25.559614292923573, 30.928229793212317, 25.968334409629907, 32.44207991755877, 26.801529845029684, 29.507190739336384, 21.05876448955374, 125.99348629509629, 24.40144306336741, 19.90672842227852, 19.906716356233588, 19.007658584479334, 19.007386667427866, 16.310449876979487, 15.41160034335818, 15.41111065011239, 13.61319212342046, 12.714187949168387, 11.815780015389903, 11.815545498355762, 11.815299213555136, 11.815237440206438, 11.815089216311781, 10.916476490501799, 10.91647036767731, 10.916435241528221, 10.916206777167153, 10.017232046374678, 9.118758061073752, 9.118625265936977, 9.118572790115692, 9.118353741749607, 8.219537543782605, 8.219370513967105, 8.219086869508093, 8.218579877922387, 7.320570886014935, 14.361569745654219, 33.537598729594414, 17.211451630337265, 16.826615178645756, 54.120170198156664, 47.51849744703128, 27.504713890452432, 25.86021945893048, 20.24500163515933, 40.04849206338058, 18.377650872925326, 16.715420248009075, 29.789411958496785, 55.857857495587346, 21.197574309107736, 16.88845873787862, 24.101188263635766, 18.350205343255382, 21.857657300580676, 20.139975203684013, 59.21902268500462, 19.655487125377356, 21.380609614099193, 33.773796328746265, 21.363113086843356, 21.720291733420126, 21.606964573525786, 32.31798567779051, 30.098559688195976, 21.70930405570211, 26.95713987914783, 21.988612169105988, 19.71718162354599, 20.486098686324276, 60.18316389866236, 43.152039713368524, 39.56662819116472, 20.743502344108254, 19.847191605151988, 16.261439518459763, 15.365540893010763, 14.469276313597415, 11.780240276375162, 11.78012396212199, 11.779840261062008, 11.779596207726566, 11.779548428294676, 11.779541968199329, 10.884213690184088, 9.987553038855975, 9.986854234179859, 9.986490930219862, 9.091054110921391, 9.091036602936953, 9.09041675477522, 8.195157493290688, 8.194926423072008, 8.194914650059335, 8.194815664447225, 8.19476715475285, 8.194705998725517, 8.194174659677666, 7.2984767732128395, 7.298316845357581, 28.6067133780518, 20.639141408626955, 22.20640734334347, 16.018727221927815, 14.188044861875271, 24.0424955023535, 19.431762162922386, 24.402818460406092, 12.677316509346486, 17.160851641546415, 15.323259384848766, 19.30916832448812, 26.37152079312252, 19.56136916985876, 40.03956266142151, 15.951459351903871, 25.34570849900359, 46.31437134450048, 54.484109520971906, 18.569637372188286, 20.74283388877437, 18.077813191698958, 24.060412791958253, 32.545508662812324, 24.490347411689857, 17.18434116863039, 18.15261728330293, 18.16224700161438, 23.17627700407096, 22.99429966409362, 18.421035200721068, 17.673206723226418, 75.33758584700735, 69.9658209675686, 53.8493501549938, 53.84883521116238, 48.47677664628398, 38.627753523354244, 26.093114084425547, 22.51149724234403, 22.511137680010574, 17.969900586620117, 16.243446185557815, 13.558173887311977, 13.55766477220305, 12.662991950984258, 11.767406211361235, 11.767001600574323, 9.976492343970094, 9.976427842035697, 9.976360699315144, 9.976151128696099, 9.975932715736505, 9.975923081333997, 9.975914892495936, 9.081335299997448, 9.081254591349891, 9.081234815014078, 9.081092545023662, 9.081061539401363, 9.080371590674734, 7.290818593686726, 52.45660430136707, 34.893387710140445, 43.700309075902474, 20.21798040354322, 25.855088497861175, 19.002623094950014, 40.56123162412569, 71.52633556380063, 21.14615050165833, 26.795129411554374, 28.469109319262248, 22.482986347588863, 20.866097623516765, 40.63640562493123, 39.0292784426221, 19.16974251057004, 28.188787923370814, 28.659558522477933, 29.525937041749465, 27.680180371048436, 22.356046538595756, 23.497866468826437, 26.386733488427947, 23.105334850889975, 26.298345495731134, 23.765109119473266], \"Total\": [346.0, 273.0, 126.0, 169.0, 282.0, 115.0, 97.0, 93.0, 92.0, 103.0, 76.0, 139.0, 84.0, 70.0, 125.0, 113.0, 60.0, 54.0, 54.0, 77.0, 65.0, 60.0, 147.0, 59.0, 54.0, 60.0, 93.0, 49.0, 64.0, 69.0, 346.489946448941, 273.8259925866322, 97.48298385317037, 93.93840176676227, 92.1661090612499, 84.19079852782009, 60.26490668213233, 59.37871637817935, 47.858820810421676, 44.3142387483254, 25.70517629565986, 23.046736862967162, 23.046739039033888, 22.160594945227068, 22.160594159994023, 19.502154121969685, 19.502155589447543, 19.502160985540677, 19.502160998126122, 18.616008065013073, 18.616009281255504, 17.729863222580267, 17.729865463770103, 16.843716958481153, 16.843722078905177, 15.957571367436152, 15.957577754909435, 15.071430389264739, 14.185280107719729, 14.185280131697079, 169.51038505025093, 39.019504801916554, 40.801561902540165, 70.10646429609511, 39.911109034908534, 44.39373289448072, 77.28253816764145, 56.777174772768326, 55.03651149023088, 74.57971521496142, 41.73345330813382, 78.26519764562792, 64.88965296572582, 73.81882192006881, 111.35800817400566, 56.85348522533414, 32.87215912523495, 113.00333847284627, 31.07054549971076, 79.13590419258544, 72.85571010919836, 89.86014579522812, 104.33078886251727, 44.545407987418365, 24.055547161358234, 20.49209268969913, 19.60122879917838, 16.928637856718787, 16.0377709205136, 15.146909308645247, 15.14690918476403, 15.146907918609674, 14.256045817747609, 14.256046961292965, 13.365181313228815, 13.3651825278169, 13.365183008644875, 13.365181272136168, 65.93526185963924, 12.474320745398451, 11.5834577547184, 10.692591330037938, 10.692592818647139, 10.692592846584233, 54.37339382031802, 9.80172763591217, 8.910864756798649, 8.910863113646789, 8.020000645515143, 8.020000935649154, 8.01999897003512, 8.020000861111228, 7.129136013134702, 24.06021958363158, 57.05236110154837, 42.77505665059156, 30.291755029256553, 14.26549626296182, 67.62765329632785, 41.94600679654859, 65.0711337947597, 72.3053861499724, 76.61736464362328, 63.322631980958015, 48.109323165821145, 36.556169113886206, 28.544343897416415, 49.89123924932408, 147.0937308653751, 35.71963069117946, 181.3669908204318, 52.59856201664334, 41.94079541798437, 64.20559893137826, 42.85776030867066, 27.657412477594146, 40.14155317794421, 50.07018360429609, 66.02679305867152, 67.00371831790503, 282.35117174528176, 111.83700647360021, 125.61609983681699, 125.97411210124588, 115.19272273936983, 45.541384394036136, 36.61172600566995, 32.1468959573829, 21.43131140487601, 19.64537478249961, 17.85944406031158, 17.85944395191829, 16.966476272953145, 16.96647698186677, 16.073512730379573, 14.287577968637047, 14.28757627389971, 14.28757927320439, 13.394609050344657, 11.608680638285511, 10.71571556071207, 9.822748534699333, 9.822746145794758, 9.8227488239788, 9.822749548046646, 8.929781995924346, 8.0368174715813, 8.036816780040404, 7.143851898826516, 7.143854045559621, 7.143853317024558, 7.143852197866851, 7.143853468099619, 7.143852480474644, 24.115344044118796, 40.21119745941894, 43.76799044929156, 23.2307374877722, 18.760403132701086, 21.422901933728607, 282.35117174528176, 21.444994060751693, 65.21951748560065, 29.45108907842342, 113.00333847284627, 22.354858299297497, 34.819400122822316, 48.25517879560403, 78.56313309313592, 106.36667589580348, 50.923235133141176, 68.73239486082664, 42.91681737010677, 126.03382659410985, 37.54560037906651, 44.622577138660695, 181.3669908204318, 67.9372064918493, 46.475553975706916, 49.12652841381263, 58.69571763136451, 69.75995272902503, 50.014167155564124, 196.73089830543134, 57.2125234131197, 84.87497148953084, 100.31537375048673, 71.50083967748259, 54.34719657487428, 29.40194907569124, 24.05653863966233, 16.038420907241626, 12.474814231233479, 12.474814124035447, 12.47481138826183, 12.474816504513305, 12.474858940406705, 11.583914091799267, 10.693011935693283, 10.693013586891665, 9.802107217712692, 9.80210903637284, 8.91120670738816, 8.911207872455158, 8.911208196110042, 8.911206144077964, 8.020304922523158, 8.020304359978198, 8.020305649833341, 35.65210311893048, 7.129403889624267, 7.129403231772627, 7.129403677662123, 7.129405912649608, 6.238500718132198, 6.2385013924712664, 6.238501795975403, 6.23850135267013, 64.16596980853748, 19.618288002968132, 103.38100784724931, 11.589459827033133, 69.6270351797476, 25.847463302948615, 36.52886985482538, 20.51830847273426, 31.20047051463449, 27.649899372175714, 139.24081994227285, 26.76010252080448, 93.7188452665662, 26.77981744840933, 32.94595350028372, 17.820115616244866, 17.820111836605665, 51.57188899338629, 72.20654204259196, 27.595050607704096, 57.07062995597629, 33.93392115274067, 74.08200160161454, 72.85571010919836, 45.5053092448175, 30.30627667067951, 30.352186509272173, 24.912316592160305, 85.82291611224271, 62.523311646057614, 53.414405937765885, 89.86014579522812, 59.72768165555192, 125.61609983681699, 72.13799578231337, 125.97411210124588, 56.970470838921486, 126.75900232970186, 25.16722054806375, 20.672013872976855, 20.6720150776551, 19.77297166331591, 19.77297133413556, 17.07584691925696, 16.1768045975821, 16.176801778035177, 14.378718163981576, 13.47967647234426, 12.580638670367648, 12.58063703775764, 12.580636287903689, 12.580633946879074, 12.580633189938675, 11.681595408199758, 11.681593950467116, 11.681593508874357, 11.681592612773326, 10.782551614521191, 9.883512763506664, 9.883512043907078, 9.883511977798786, 9.883508812104221, 8.984469330149556, 8.984467735588009, 8.984466087384147, 8.984463571502806, 8.085428261462742, 16.17250273931623, 39.53405860515348, 19.756709920489143, 19.764048836603294, 77.99852855504841, 68.24239374331103, 37.66794593994653, 35.010602064028554, 26.045583308989826, 61.87671962754631, 23.3405800738418, 20.661778144576424, 46.62646970683559, 111.83700647360021, 32.2764618286653, 22.426490858897335, 40.332799964808416, 26.014390519208174, 34.94374882353818, 30.50312938098295, 196.73089830543134, 29.634786665872426, 36.726279354678354, 100.31537375048673, 37.7070734293656, 39.40775591175027, 40.396859254091005, 126.03382659410985, 111.35800817400566, 42.98361574602323, 106.36667589580348, 85.82291611224271, 42.9117983209583, 181.3669908204318, 60.94872152658329, 43.918017411842925, 40.332606148679616, 21.50920223473938, 20.61284677308604, 17.02743825011433, 16.1310841472156, 15.234732070971633, 12.545675900780623, 12.545675827116659, 12.54566931111228, 12.545672151251155, 12.545674952030938, 12.545668866052928, 11.649323359773932, 10.752969985334023, 10.752965581631878, 10.752969052253365, 9.856616044636851, 9.856616410462712, 9.856613297506232, 8.960265004878854, 8.96026326327558, 8.96026357822955, 8.960262260429728, 8.960262161809494, 8.960260853585522, 8.9602613584843, 8.063911916580329, 8.063908823316554, 34.0047788530877, 24.181272430975607, 26.863508177406338, 18.807674215309362, 17.01473758502946, 32.23725634449566, 25.086185189615723, 33.09767564822946, 15.232751765272692, 23.28159873084096, 20.585336053760475, 28.662208641105178, 47.404936319516345, 31.374951306077488, 104.33078886251727, 23.280809641019985, 54.64274084762707, 196.73089830543134, 282.35117174528176, 32.225206183482605, 41.9990587060119, 31.33866718246516, 58.82927716752037, 147.0937308653751, 78.26519764562792, 31.327738892080127, 40.396859254091005, 41.13780233865339, 139.24081994227285, 181.3669908204318, 69.77016499466004, 84.87497148953084, 76.10365038882759, 70.7314692482221, 54.61492005543408, 54.614917880514625, 49.24273578960251, 39.39373278527125, 26.858641463454727, 23.27718452744338, 23.27718440895997, 18.800039927364637, 17.00963671259209, 14.323547711966816, 14.323546811197478, 13.428184477050687, 12.532820908240886, 12.532818752357084, 10.742092922812095, 10.742093240544873, 10.742089756451755, 10.74208809641764, 10.742088527079096, 10.742090844805826, 10.742092533325568, 9.846729451664867, 9.846729191442, 9.846728564812745, 9.846728667975743, 9.84672799281561, 9.846727426116304, 8.056001473391685, 60.890925680652956, 40.27669790615258, 51.06044266375409, 23.265657068362298, 31.311764164208686, 22.374823771563584, 59.96535384829076, 125.97411210124588, 27.70890760677882, 38.543295141862174, 41.96843677141181, 31.295160590839334, 28.678194115742453, 69.75995272902503, 71.51803726696718, 26.88708148624345, 51.895343072351324, 54.64274084762707, 58.201544670890925, 65.18922125649172, 52.65175631757494, 69.77016499466004, 126.03382659410985, 67.1388021255799, 282.35117174528176, 139.24081994227285], \"Category\": [\"Default\", \"Default\", \"Default\", \"Default\", \"Default\", \"Default\", \"Default\", \"Default\", \"Default\", \"Default\", \"Default\", \"Default\", \"Default\", \"Default\", \"Default\", \"Default\", \"Default\", \"Default\", \"Default\", \"Default\", \"Default\", \"Default\", \"Default\", \"Default\", \"Default\", \"Default\", \"Default\", \"Default\", \"Default\", \"Default\", \"Topic1\", \"Topic1\", \"Topic1\", \"Topic1\", \"Topic1\", \"Topic1\", \"Topic1\", \"Topic1\", \"Topic1\", \"Topic1\", \"Topic1\", \"Topic1\", \"Topic1\", \"Topic1\", \"Topic1\", \"Topic1\", \"Topic1\", \"Topic1\", \"Topic1\", \"Topic1\", \"Topic1\", \"Topic1\", \"Topic1\", \"Topic1\", \"Topic1\", \"Topic1\", \"Topic1\", \"Topic1\", \"Topic1\", \"Topic1\", \"Topic1\", \"Topic1\", \"Topic1\", \"Topic1\", \"Topic1\", \"Topic1\", \"Topic1\", \"Topic1\", \"Topic1\", \"Topic1\", \"Topic1\", \"Topic1\", \"Topic1\", \"Topic1\", \"Topic1\", \"Topic1\", \"Topic1\", \"Topic1\", \"Topic1\", \"Topic1\", \"Topic1\", \"Topic1\", \"Topic1\", \"Topic2\", \"Topic2\", \"Topic2\", \"Topic2\", \"Topic2\", \"Topic2\", \"Topic2\", \"Topic2\", \"Topic2\", \"Topic2\", \"Topic2\", \"Topic2\", \"Topic2\", \"Topic2\", \"Topic2\", \"Topic2\", \"Topic2\", \"Topic2\", \"Topic2\", \"Topic2\", \"Topic2\", \"Topic2\", \"Topic2\", \"Topic2\", \"Topic2\", \"Topic2\", \"Topic2\", \"Topic2\", \"Topic2\", \"Topic2\", \"Topic2\", \"Topic2\", \"Topic2\", \"Topic2\", \"Topic2\", \"Topic2\", \"Topic2\", \"Topic2\", \"Topic2\", \"Topic2\", \"Topic2\", \"Topic2\", \"Topic2\", \"Topic2\", \"Topic2\", \"Topic2\", \"Topic2\", \"Topic2\", \"Topic2\", \"Topic2\", \"Topic2\", \"Topic2\", \"Topic2\", \"Topic2\", \"Topic2\", \"Topic2\", \"Topic2\", \"Topic2\", \"Topic2\", \"Topic2\", \"Topic2\", \"Topic3\", \"Topic3\", \"Topic3\", \"Topic3\", \"Topic3\", \"Topic3\", \"Topic3\", \"Topic3\", \"Topic3\", \"Topic3\", \"Topic3\", \"Topic3\", \"Topic3\", \"Topic3\", \"Topic3\", \"Topic3\", \"Topic3\", \"Topic3\", \"Topic3\", \"Topic3\", \"Topic3\", \"Topic3\", \"Topic3\", \"Topic3\", \"Topic3\", \"Topic3\", \"Topic3\", \"Topic3\", \"Topic3\", \"Topic3\", \"Topic3\", \"Topic3\", \"Topic3\", \"Topic3\", \"Topic3\", \"Topic3\", \"Topic3\", \"Topic3\", \"Topic3\", \"Topic3\", \"Topic3\", \"Topic3\", \"Topic3\", \"Topic3\", \"Topic3\", \"Topic3\", \"Topic3\", \"Topic3\", \"Topic3\", \"Topic3\", \"Topic3\", \"Topic3\", \"Topic3\", \"Topic3\", \"Topic3\", \"Topic3\", \"Topic3\", \"Topic3\", \"Topic3\", \"Topic3\", \"Topic3\", \"Topic3\", \"Topic3\", \"Topic3\", \"Topic4\", \"Topic4\", \"Topic4\", \"Topic4\", \"Topic4\", \"Topic4\", \"Topic4\", \"Topic4\", \"Topic4\", \"Topic4\", \"Topic4\", \"Topic4\", \"Topic4\", \"Topic4\", \"Topic4\", \"Topic4\", \"Topic4\", \"Topic4\", \"Topic4\", \"Topic4\", \"Topic4\", \"Topic4\", \"Topic4\", \"Topic4\", \"Topic4\", \"Topic4\", \"Topic4\", \"Topic4\", \"Topic4\", \"Topic4\", \"Topic4\", \"Topic4\", \"Topic4\", \"Topic4\", \"Topic4\", \"Topic4\", \"Topic4\", \"Topic4\", \"Topic4\", \"Topic4\", \"Topic4\", \"Topic4\", \"Topic4\", \"Topic4\", \"Topic4\", \"Topic4\", \"Topic4\", \"Topic4\", \"Topic4\", \"Topic4\", \"Topic4\", \"Topic4\", \"Topic4\", \"Topic4\", \"Topic4\", \"Topic4\", \"Topic4\", \"Topic4\", \"Topic4\", \"Topic4\", \"Topic4\", \"Topic4\", \"Topic4\", \"Topic4\", \"Topic4\", \"Topic4\", \"Topic4\", \"Topic5\", \"Topic5\", \"Topic5\", \"Topic5\", \"Topic5\", \"Topic5\", \"Topic5\", \"Topic5\", \"Topic5\", \"Topic5\", \"Topic5\", \"Topic5\", \"Topic5\", \"Topic5\", \"Topic5\", \"Topic5\", \"Topic5\", \"Topic5\", \"Topic5\", \"Topic5\", \"Topic5\", \"Topic5\", \"Topic5\", \"Topic5\", \"Topic5\", \"Topic5\", \"Topic5\", \"Topic5\", \"Topic5\", \"Topic5\", \"Topic5\", \"Topic5\", \"Topic5\", \"Topic5\", \"Topic5\", \"Topic5\", \"Topic5\", \"Topic5\", \"Topic5\", \"Topic5\", \"Topic5\", \"Topic5\", \"Topic5\", \"Topic5\", \"Topic5\", \"Topic5\", \"Topic5\", \"Topic5\", \"Topic5\", \"Topic5\", \"Topic5\", \"Topic5\", \"Topic5\", \"Topic5\", \"Topic5\", \"Topic5\", \"Topic5\", \"Topic5\", \"Topic5\", \"Topic5\", \"Topic5\", \"Topic5\", \"Topic5\", \"Topic5\", \"Topic6\", \"Topic6\", \"Topic6\", \"Topic6\", \"Topic6\", \"Topic6\", \"Topic6\", \"Topic6\", \"Topic6\", \"Topic6\", \"Topic6\", \"Topic6\", \"Topic6\", \"Topic6\", \"Topic6\", \"Topic6\", \"Topic6\", \"Topic6\", \"Topic6\", \"Topic6\", \"Topic6\", \"Topic6\", \"Topic6\", \"Topic6\", \"Topic6\", \"Topic6\", \"Topic6\", \"Topic6\", \"Topic6\", \"Topic6\", \"Topic6\", \"Topic6\", \"Topic6\", \"Topic6\", \"Topic6\", \"Topic6\", \"Topic6\", \"Topic6\", \"Topic6\", \"Topic6\", \"Topic6\", \"Topic6\", \"Topic6\", \"Topic6\", \"Topic6\", \"Topic6\", \"Topic6\", \"Topic6\", \"Topic6\", \"Topic6\", \"Topic6\", \"Topic6\", \"Topic6\", \"Topic6\", \"Topic6\", \"Topic6\", \"Topic6\", \"Topic6\", \"Topic6\", \"Topic6\", \"Topic6\", \"Topic6\", \"Topic7\", \"Topic7\", \"Topic7\", \"Topic7\", \"Topic7\", \"Topic7\", \"Topic7\", \"Topic7\", \"Topic7\", \"Topic7\", \"Topic7\", \"Topic7\", \"Topic7\", \"Topic7\", \"Topic7\", \"Topic7\", \"Topic7\", \"Topic7\", \"Topic7\", \"Topic7\", \"Topic7\", \"Topic7\", \"Topic7\", \"Topic7\", \"Topic7\", \"Topic7\", \"Topic7\", \"Topic7\", \"Topic7\", \"Topic7\", \"Topic7\", \"Topic7\", \"Topic7\", \"Topic7\", \"Topic7\", \"Topic7\", \"Topic7\", \"Topic7\", \"Topic7\", \"Topic7\", \"Topic7\", \"Topic7\", \"Topic7\", \"Topic7\", \"Topic7\", \"Topic7\", \"Topic7\", \"Topic7\", \"Topic7\", \"Topic7\", \"Topic7\", \"Topic7\", \"Topic7\", \"Topic7\", \"Topic7\", \"Topic7\"], \"logprob\": [30.0, 29.0, 28.0, 27.0, 26.0, 25.0, 24.0, 23.0, 22.0, 21.0, 20.0, 19.0, 18.0, 17.0, 16.0, 15.0, 14.0, 13.0, 12.0, 11.0, 10.0, 9.0, 8.0, 7.0, 6.0, 5.0, 4.0, 3.0, 2.0, 1.0, -3.2427, -3.4787, -4.5166, -4.5539, -4.5731, -4.6644, -5.0026, -5.0174, -5.2363, -5.3145, -5.872, -5.9847, -5.9847, -6.0253, -6.0253, -6.158, -6.158, -6.158, -6.158, -6.2064, -6.2064, -6.2573, -6.2574, -6.311, -6.311, -6.3677, -6.3677, -6.4278, -6.4918, -6.4918, -4.0688, -5.502, -5.4792, -4.9933, -5.5628, -5.4702, -4.9994, -5.2739, -5.316, -5.0641, -5.5655, -5.1155, -5.2921, -5.2108, -4.9809, -5.487, -5.8045, -5.1267, -5.8461, -5.4266, -5.4648, -5.4183, -5.5578, -5.2607, -5.8918, -6.0579, -6.1041, -6.2571, -6.3138, -6.3739, -6.3739, -6.3739, -6.4379, -6.4379, -6.5062, -6.5062, -6.5062, -6.5062, -4.9117, -6.5796, -6.6587, -6.7446, -6.7447, -6.7447, -5.1183, -6.8386, -6.9424, -6.9425, -7.0583, -7.0583, -7.0583, -7.0583, -7.1893, -5.9807, -5.1409, -5.4241, -5.7948, -6.5172, -5.0925, -5.5392, -5.1465, -5.0636, -5.0214, -5.2017, -5.4383, -5.6949, -5.9421, -5.5154, -4.7072, -5.7877, -4.7395, -5.5854, -5.7335, -5.4698, -5.7459, -6.0136, -5.8117, -5.7169, -5.6921, -5.7007, -5.274, -5.5928, -5.663, -5.844, -4.2524, -5.1907, -5.4131, -5.5461, -5.9639, -6.0543, -6.1536, -6.1536, -6.2073, -6.2073, -6.264, -6.388, -6.388, -6.3881, -6.4564, -6.6089, -6.6947, -6.7888, -6.7888, -6.7888, -6.7888, -6.8926, -7.0084, -7.0085, -7.1394, -7.1395, -7.1395, -7.1395, -7.1395, -7.1395, -5.9275, -5.4267, -5.3463, -5.9735, -6.2274, -6.1535, -3.9298, -6.1558, -5.2073, -5.9295, -4.901, -6.1554, -5.8168, -5.6067, -5.348, -5.1755, -5.6838, -5.5241, -5.7862, -5.2473, -5.8851, -5.8027, -5.1384, -5.6239, -5.7921, -5.7717, -5.7067, -5.6429, -5.7775, -5.4599, -5.7799, -5.7042, -5.8112, -5.8477, -4.9746, -5.6011, -5.8078, -6.2297, -6.4954, -6.4955, -6.4955, -6.4955, -6.4961, -6.5746, -6.6605, -6.6606, -6.7546, -6.7546, -6.8583, -6.8584, -6.8584, -6.8584, -6.9742, -6.9742, -6.9743, -5.4932, -7.1052, -7.1052, -7.1052, -7.1053, -7.256, -7.256, -7.256, -7.2561, -4.944, -6.1193, -4.4806, -6.6622, -4.9667, -5.905, -5.59, -6.1255, -5.7458, -5.8652, -4.4363, -5.9151, -4.8281, -5.9389, -5.7839, -6.2898, -6.2928, -5.4998, -5.2658, -5.9781, -5.4704, -5.8556, -5.3459, -5.4079, -5.7149, -5.9616, -5.9687, -6.0878, -5.3853, -5.586, -5.7148, -5.5241, -5.6989, -5.4763, -5.6673, -5.5711, -5.9085, -4.0474, -5.689, -5.8925, -5.8925, -5.9388, -5.9388, -6.0918, -6.1485, -6.1485, -6.2726, -6.3409, -6.4142, -6.4142, -6.4142, -6.4142, -6.4142, -6.4933, -6.4933, -6.4933, -6.4933, -6.5793, -6.6733, -6.6733, -6.6733, -6.6733, -6.7771, -6.7771, -6.7771, -6.7772, -6.8929, -6.219, -5.3709, -6.038, -6.0606, -4.8924, -5.0225, -5.5692, -5.6309, -5.8757, -5.1935, -5.9725, -6.0673, -5.4894, -4.8608, -5.8297, -6.057, -5.7013, -5.974, -5.799, -5.8809, -4.8024, -5.9052, -5.8211, -5.3639, -5.8219, -5.8053, -5.8106, -5.408, -5.4791, -5.8059, -5.5893, -5.7931, -5.9021, -5.8638, -4.761, -5.0937, -5.1804, -5.8262, -5.8703, -6.0696, -6.1263, -6.1864, -6.392, -6.392, -6.392, -6.392, -6.392, -6.392, -6.4711, -6.5571, -6.5571, -6.5572, -6.6511, -6.6511, -6.6512, -6.7549, -6.7549, -6.7549, -6.7549, -6.7549, -6.7549, -6.755, -6.8707, -6.8708, -5.5048, -5.8312, -5.758, -6.0846, -6.206, -5.6786, -5.8915, -5.6637, -6.3186, -6.0158, -6.129, -5.8978, -5.5861, -5.8848, -5.1685, -6.0889, -5.6258, -5.0229, -4.8605, -5.9369, -5.8262, -5.9637, -5.6778, -5.3758, -5.6601, -6.0144, -5.9596, -5.9591, -5.7153, -5.7232, -5.9449, -5.9864, -4.5085, -4.5825, -4.8443, -4.8443, -4.9494, -5.1765, -5.5688, -5.7164, -5.7165, -5.9418, -6.0428, -6.2235, -6.2235, -6.2918, -6.3651, -6.3652, -6.5302, -6.5302, -6.5303, -6.5303, -6.5303, -6.5303, -6.5303, -6.6243, -6.6243, -6.6243, -6.6243, -6.6243, -6.6244, -6.8439, -4.8705, -5.2782, -5.0531, -5.8239, -5.578, -5.8859, -5.1277, -4.5604, -5.779, -5.5423, -5.4817, -5.7177, -5.7923, -5.1258, -5.1662, -5.8771, -5.4915, -5.475, -5.4452, -5.5098, -5.7234, -5.6736, -5.5576, -5.6904, -5.561, -5.6623], \"loglift\": [30.0, 29.0, 28.0, 27.0, 26.0, 25.0, 24.0, 23.0, 22.0, 21.0, 20.0, 19.0, 18.0, 17.0, 16.0, 15.0, 14.0, 13.0, 12.0, 11.0, 10.0, 9.0, 8.0, 7.0, 6.0, 5.0, 4.0, 3.0, 2.0, 1.0, 1.8092, 1.8086, 1.8035, 1.8032, 1.803, 1.8022, 1.7984, 1.7984, 1.7952, 1.7939, 1.7811, 1.7775, 1.7775, 1.7761, 1.7761, 1.7713, 1.7713, 1.7712, 1.7712, 1.7693, 1.7693, 1.7672, 1.7671, 1.7648, 1.7647, 1.7621, 1.7621, 1.7591, 1.7558, 1.7558, 1.698, 1.7337, 1.7118, 1.6565, 1.6503, 1.6364, 1.5529, 1.5867, 1.5757, 1.5237, 1.6029, 1.4241, 1.4349, 1.3874, 1.2061, 1.3722, 1.6027, 1.0457, 1.6174, 1.102, 1.1465, 0.9832, 0.6944, 1.8426, 1.8276, 1.8218, 1.8201, 1.8136, 1.811, 1.808, 1.808, 1.808, 1.8047, 1.8047, 1.8009, 1.8009, 1.8009, 1.8009, 1.7994, 1.7965, 1.7915, 1.7856, 1.7855, 1.7855, 1.7855, 1.7786, 1.77, 1.77, 1.7595, 1.7595, 1.7595, 1.7595, 1.7463, 1.7385, 1.7149, 1.7197, 1.6941, 1.7247, 1.5932, 1.6241, 1.5778, 1.5552, 1.5395, 1.5498, 1.588, 1.606, 1.6062, 1.4745, 1.2015, 1.5364, 0.9597, 1.3516, 1.43, 1.2679, 1.396, 1.5662, 1.3957, 1.2694, 1.0176, 0.9943, -0.0174, 0.5899, 0.4035, 0.2197, 1.9008, 1.8905, 1.8863, 1.8833, 1.871, 1.8676, 1.8636, 1.8636, 1.8612, 1.8612, 1.8586, 1.8523, 1.8523, 1.8523, 1.8485, 1.8391, 1.8333, 1.8262, 1.8262, 1.8262, 1.8262, 1.8178, 1.8073, 1.8072, 1.7941, 1.794, 1.794, 1.794, 1.794, 1.794, 1.7894, 1.7789, 1.7745, 1.7808, 1.7406, 1.6817, 1.3268, 1.6784, 1.5147, 1.5875, 1.2713, 1.6373, 1.5328, 1.4166, 1.1878, 1.0574, 1.2857, 1.1455, 1.3543, 0.8159, 1.3891, 1.2988, 0.5608, 1.0573, 1.2687, 1.2336, 1.1207, 1.0118, 1.21, 0.158, 1.0731, 0.7544, 0.4802, 0.7824, 1.9298, 1.9176, 1.9116, 1.895, 1.8806, 1.8806, 1.8806, 1.8806, 1.88, 1.8755, 1.8696, 1.8696, 1.8626, 1.8626, 1.8541, 1.854, 1.854, 1.854, 1.8435, 1.8435, 1.8435, 1.8328, 1.8303, 1.8303, 1.8303, 1.8302, 1.813, 1.813, 1.813, 1.8129, 1.7942, 1.804, 1.7808, 1.7875, 1.6899, 1.7425, 1.7117, 1.7529, 1.7135, 1.715, 1.5273, 1.6977, 1.5314, 1.6732, 1.621, 1.7296, 1.7266, 1.4569, 1.3545, 1.604, 1.385, 1.5198, 1.2487, 1.2033, 1.367, 1.5268, 1.5182, 1.5966, 1.0622, 1.1782, 1.2069, 0.8774, 1.1111, 0.5902, 0.9539, 0.4925, 0.9488, 2.0101, 1.9853, 1.9784, 1.9784, 1.9767, 1.9767, 1.9703, 1.9677, 1.9677, 1.9614, 1.9577, 1.9534, 1.9534, 1.9534, 1.9534, 1.9534, 1.9484, 1.9484, 1.9484, 1.9484, 1.9425, 1.9356, 1.9356, 1.9356, 1.9356, 1.9272, 1.9272, 1.9271, 1.9271, 1.9168, 1.8974, 1.8517, 1.8782, 1.8553, 1.6507, 1.6542, 1.7017, 1.7132, 1.7642, 1.5811, 1.7771, 1.8042, 1.5681, 1.3219, 1.5957, 1.7325, 1.5013, 1.6671, 1.547, 1.601, 0.8156, 1.6056, 1.4751, 0.9275, 1.448, 1.4204, 1.3904, 0.6552, 0.7079, 1.3331, 0.6435, 0.6544, 1.2385, -0.1646, 2.0287, 2.0238, 2.0222, 2.0051, 2.0035, 1.9953, 1.9927, 1.9898, 1.9784, 1.9784, 1.9784, 1.9783, 1.9783, 1.9783, 1.9734, 1.9675, 1.9674, 1.9674, 1.9605, 1.9605, 1.9604, 1.9521, 1.9521, 1.9521, 1.9521, 1.952, 1.952, 1.952, 1.9416, 1.9416, 1.8685, 1.883, 1.851, 1.8808, 1.8597, 1.7481, 1.7859, 1.7366, 1.8577, 1.7363, 1.7461, 1.6464, 1.4549, 1.5689, 1.0837, 1.6633, 1.2731, 0.595, 0.3961, 1.4901, 1.3359, 1.4912, 1.1473, 0.5329, 0.8795, 1.4408, 1.2414, 1.2238, 0.2483, -0.0239, 0.7096, 0.4722, 2.0592, 2.0584, 2.0552, 2.0552, 2.0536, 2.0496, 2.0404, 2.0358, 2.0358, 2.0241, 2.0232, 2.0144, 2.0143, 2.0106, 2.0063, 2.0062, 1.9953, 1.9953, 1.9953, 1.9953, 1.9953, 1.9953, 1.9953, 1.9884, 1.9884, 1.9884, 1.9883, 1.9883, 1.9883, 1.9695, 1.9202, 1.9258, 1.9136, 1.9289, 1.8778, 1.9059, 1.6783, 1.5033, 1.799, 1.7057, 1.6812, 1.7386, 1.7513, 1.5289, 1.4636, 1.731, 1.459, 1.424, 1.3906, 1.2127, 1.2127, 0.981, 0.5056, 1.0026, -0.3044, 0.3013]}, \"token.table\": {\"Topic\": [3, 6, 7, 7, 7, 7, 2, 7, 4, 6, 7, 4, 1, 4, 3, 1, 6, 7, 2, 4, 6, 2, 2, 6, 3, 1, 7, 7, 6, 1, 5, 6, 7, 1, 5, 6, 4, 1, 1, 7, 2, 4, 1, 4, 6, 1, 2, 5, 7, 1, 2, 3, 4, 7, 2, 3, 4, 5, 6, 7, 4, 1, 6, 3, 5, 7, 6, 5, 1, 5, 6, 7, 7, 2, 3, 5, 2, 4, 5, 7, 4, 4, 6, 5, 3, 4, 6, 6, 2, 3, 4, 5, 1, 5, 3, 7, 2, 3, 7, 3, 2, 2, 5, 7, 3, 4, 5, 6, 7, 2, 3, 5, 7, 2, 3, 4, 5, 1, 2, 4, 6, 1, 4, 6, 2, 2, 3, 4, 2, 3, 5, 6, 1, 6, 7, 1, 1, 7, 1, 4, 4, 3, 4, 5, 6, 2, 3, 4, 6, 1, 3, 4, 6, 6, 4, 5, 6, 5, 4, 5, 7, 3, 6, 2, 5, 3, 4, 4, 5, 3, 4, 6, 3, 4, 6, 3, 4, 2, 4, 5, 7, 3, 1, 2, 4, 2, 3, 5, 6, 7, 7, 1, 5, 4, 1, 3, 4, 2, 3, 2, 3, 5, 7, 4, 7, 5, 7, 1, 4, 6, 2, 7, 1, 3, 4, 5, 7, 7, 2, 3, 4, 4, 1, 4, 4, 3, 5, 3, 7, 1, 2, 4, 6, 7, 6, 2, 2, 5, 3, 6, 7, 2, 3, 5, 7, 7, 2, 2, 2, 3, 6, 3, 2, 5, 2, 3, 6, 6, 7, 5, 1, 2, 3, 5, 7, 3, 5, 5, 7, 2, 4, 2, 2, 3, 6, 4, 3, 1, 2, 3, 7, 2, 4, 5, 6, 2, 3, 5, 7, 1, 2, 3, 6, 4, 3, 4, 7, 1, 2, 6, 7, 5, 3, 1, 2, 4, 2, 3, 1, 2, 6, 4, 2, 3, 4, 5, 1, 6, 6, 3, 5, 6, 2, 5, 7, 1, 3, 4, 5, 2, 4, 7, 1, 4, 5, 2, 5, 4, 5, 1, 7, 3, 4, 5, 6, 7, 5, 2, 5, 6, 5, 2, 3, 6, 2, 4, 6, 7, 1, 3, 7, 1, 2, 5, 5, 5, 1, 3, 1, 7, 6, 3, 7, 1, 6, 1, 1, 6, 4, 6, 3, 4, 5, 7, 2, 3, 6, 7, 4, 7, 2, 3, 6, 4, 5, 5, 1, 3, 1, 3, 1, 6, 6, 3, 7, 2, 2, 5, 2, 4, 3, 1, 2, 4, 3, 1, 3, 6, 2, 5, 1, 2, 1, 2, 3, 4, 7, 5, 2, 3, 6, 7, 6, 7, 4, 2, 3, 4, 6, 4, 5, 6, 4, 6, 3, 2, 4, 7, 1, 5, 6, 6, 1, 3, 5, 2, 3, 4, 6, 7, 7, 4, 5, 5, 5, 5, 6, 5, 1, 4, 6, 2, 4, 6, 1, 2, 3, 5, 5, 7, 3, 5, 3, 3, 6, 1, 5, 6, 5, 6, 4, 3, 4, 5, 7, 7, 2, 3, 5, 7, 3, 4, 7, 1, 2, 4, 5, 2, 5, 2, 1, 2, 4, 5, 2, 3, 6, 7, 1, 3, 5, 1, 2, 4, 7, 2, 3, 5, 7, 1, 3, 4, 6, 1, 4, 6, 3, 4, 5, 3, 3, 6, 5, 2, 2, 2, 4, 5, 6, 3, 2, 3, 4, 6, 6, 5, 7, 3, 2, 6, 2, 4, 4, 2, 3, 7, 6, 2, 7, 6, 1, 6, 4, 5, 4, 1, 4, 7, 3, 7, 7, 4, 1, 2, 3, 5, 6, 7, 2, 3, 5, 1, 4, 5, 7, 2, 6, 1, 3, 1, 2, 5, 6, 1, 2, 7, 1, 5, 2, 6, 4, 5, 1, 4, 3, 4, 6, 4, 1, 3, 3, 3, 2, 3, 4, 5, 6, 2, 1, 7, 5, 7, 4, 6, 3, 5, 6, 7, 3, 2, 6, 5, 5, 7, 2, 6, 4, 7, 5, 1, 4, 1, 2, 3, 6, 5, 7, 1, 4, 5, 6, 3, 4, 5, 6, 1, 4, 7, 6, 1, 1, 2, 5, 6, 7, 1, 7, 6, 5, 7, 5, 6, 2, 4, 6, 2, 6, 1, 3, 5, 6, 5, 7, 2, 2, 5, 2, 2, 4, 4, 7, 5, 6, 4, 1, 2, 3, 5, 7, 3, 4, 5, 6, 2, 4, 5, 2, 3, 5, 6, 2, 5, 7, 6, 4, 6, 4, 2, 3, 4, 5, 7, 4, 6, 4, 6, 7, 3, 1, 3, 4, 2, 3, 4, 5, 3, 5, 6, 7, 2, 3, 6, 3], \"Freq\": [0.19145677016402166, 0.574370310492065, 0.19145677016402166, 0.9309174670437038, 0.9774114822337973, 0.9880920079867656, 0.08596361556105335, 0.8596361556105334, 0.11673407310677492, 0.20011555389732844, 0.6837281424825388, 0.8727848328213604, 0.3684177634531985, 0.6204930752895974, 0.8398829646047443, 0.9858559539920909, 0.8534242663651309, 0.1312960409792509, 0.19162925181697937, 0.7938926146703431, 0.9299756266072537, 0.92428097569122, 0.7707306245701183, 0.21019926124639593, 0.9162404700840616, 0.9226155017280424, 0.05125641676266902, 0.8689174180417454, 0.9442608519207133, 0.06556704313908499, 0.6556704313908499, 0.13113408627816997, 0.09835056470862749, 0.833450975793028, 0.06757710614538065, 0.09010280819384087, 0.8014745396921263, 0.9499090990093891, 0.9068280299754041, 0.07352659702503277, 0.8728180672034858, 0.8727847716041482, 0.9936220181021205, 0.6589311117302958, 0.3294655558651479, 0.7763720165329957, 0.09057673526218284, 0.12939533608883264, 0.9140090912444399, 0.1990190750427416, 0.23086212704958026, 0.18309754903932227, 0.25474441605470927, 0.12737220802735463, 0.07974849418293857, 0.23924548254881572, 0.029905685318601966, 0.33893110027748896, 0.16946555013874448, 0.13955986482014252, 0.9352541678979904, 0.972566759023593, 0.9702686979711008, 0.3661214836466275, 0.07707820708350054, 0.5395474495845037, 0.8928310193978105, 0.9106074141201196, 0.9164429520818158, 0.8600179490695629, 0.10117858224347798, 0.05058929112173899, 0.9140091398344776, 0.186716067336439, 0.7935432861798658, 0.9538470041072045, 0.9352268568979054, 0.26547770924230535, 0.743337585878455, 0.9309172869621921, 0.8727846924568837, 0.14890087972069918, 0.8189548384638455, 0.9272535814793735, 0.713046636206914, 0.2376822120689713, 0.868065370451574, 0.8928311497537188, 0.24733606379382808, 0.4655737671413234, 0.18913934290116263, 0.08729508133899815, 0.9476279879626139, 0.9538468266138517, 0.870814862171599, 0.08293474877824752, 0.13746180857712934, 0.5302098330832131, 0.31419841960486705, 0.8398828662538977, 0.9496300873993575, 0.19220131243544467, 0.6919247247676008, 0.07688052497417787, 0.1787341987060564, 0.10426161591186624, 0.1340506490295423, 0.23831226494140853, 0.3425738808532748, 0.18399400152951753, 0.6746446722748975, 0.13799550114713813, 0.9406432524308609, 0.210265770839689, 0.14017718055979267, 0.5782308698091447, 0.07008859027989633, 0.4928230794594758, 0.1769108490367349, 0.21482031668746382, 0.11372840295218672, 0.7812995198220841, 0.10901853764959313, 0.09084878137466094, 0.9182054770656194, 0.30136779967127403, 0.267882488596688, 0.43530904396961806, 0.29991502114478846, 0.4998583685746475, 0.0599830042289577, 0.1199660084579154, 0.8146941435439139, 0.09584636982869575, 0.07188477737152181, 0.9873477455745153, 0.855841192426844, 0.12837617886402658, 0.5078531242718419, 0.4804016040409315, 0.9619381804558824, 0.42686476965283005, 0.2502310718654521, 0.13247527334053347, 0.19135317260299278, 0.20169162287586617, 0.5378443276689764, 0.17928144255632547, 0.06723054095862205, 0.2772464050755282, 0.235659444314199, 0.3742826468519631, 0.09703624177643488, 0.9189528200942699, 0.27884097234000227, 0.6506289354600053, 0.061964660520000506, 0.9416523161687314, 0.22295061815327805, 0.7580321017211453, 0.9680310910504152, 0.8528601377499477, 0.10660751721874347, 0.7278910642942451, 0.2519622914864695, 0.14509434868504342, 0.8512201789522547, 0.7468310804780323, 0.22404932414340967, 0.6216949299280796, 0.12433898598561592, 0.26940113630216783, 0.6892709212491355, 0.20103735203099785, 0.08615886515614193, 0.8709916116769815, 0.9560810199884533, 0.2722845922786392, 0.10891383691145567, 0.5717976437851423, 0.02722845922786392, 0.9881122543541511, 0.18119191267596663, 0.10871514760557997, 0.7247676507038665, 0.40801250362733354, 0.2591430766281713, 0.11027364962900907, 0.12681469707336043, 0.0937326021846577, 0.9896585034073715, 0.8908008789858889, 0.1061881842499735, 0.8014746212126742, 0.4690126921580768, 0.5309577647072568, 0.9619381721897969, 0.7530220720381249, 0.23051696082799739, 0.11650444525932378, 0.5825222262966189, 0.18640711241491803, 0.11650444525932378, 0.8975627578898343, 0.08414650855217196, 0.8904257550967308, 0.9854980624031984, 0.373963459339361, 0.20398006873056054, 0.4079601374611211, 0.8588601602795045, 0.12269430861135779, 0.5477827863505128, 0.017960091355754517, 0.08082041110089533, 0.2694013703363178, 0.08082041110089533, 0.9887408439968741, 0.18003908831878118, 0.2492848915183124, 0.5539664255962498, 0.9351902027360497, 0.28098551068521826, 0.7225341703334184, 0.8415848492164377, 0.8609283287079138, 0.08609283287079138, 0.12414125933685868, 0.8689888153580108, 0.28084724883595324, 0.21063543662696493, 0.36861201409718863, 0.035105906104494156, 0.10531771831348247, 0.9299760074636445, 0.9118937413223107, 0.29487735763845174, 0.692320752716365, 0.10466743988799336, 0.6628937859572913, 0.20933487977598672, 0.25591146321881264, 0.2326467847443751, 0.5118229264376253, 0.930917561361275, 0.9140091494104421, 0.9619762265954706, 0.9352269895425358, 0.7264385348643252, 0.12633713649814352, 0.12633713649814352, 0.916240497067299, 0.9195673929280502, 0.055174043575683014, 0.7659445909873509, 0.1367758198191698, 0.08206549189150188, 0.13138246644428764, 0.8539860318878697, 0.9106074865105229, 0.07462272431325469, 0.4178872561542263, 0.1641699934891603, 0.25371726266506595, 0.08954726917590562, 0.1713753466000132, 0.7711890597000594, 0.8601476418392452, 0.10119384021638178, 0.1683491118073383, 0.7856291884342455, 0.945143970555775, 0.8649900876165948, 0.11689055238062092, 0.9763263077271657, 0.961934724659001, 0.9798747077708984, 0.0778748284140127, 0.5606987645808915, 0.1868995881936305, 0.1868995881936305, 0.6299909235933069, 0.06999899151036743, 0.16333098019085734, 0.11666498585061238, 0.6437646146411019, 0.1430588032535782, 0.09537253550238547, 0.11921566937798184, 0.939992662706167, 0.9726766659822744, 0.7927257966050523, 0.1865237168482476, 0.9936115090242797, 0.229475441166124, 0.4994465484203875, 0.2564725518915503, 0.19035481549942124, 0.5166773563555719, 0.2243467468386036, 0.06798386267836472, 0.9609076794239255, 0.9671487670943026, 0.12141096477798262, 0.15176370597247826, 0.7284657886678957, 0.9403162776843672, 0.04549917472666293, 0.9790108912172704, 0.9352920723424096, 0.9565051481759997, 0.8977459801675691, 0.12221872960225594, 0.42306483323857824, 0.1974302555113365, 0.25383889994314696, 0.9545819025736768, 0.8928310994438744, 0.9565053647134669, 0.07326823878434202, 0.7033750923296833, 0.21980471635302606, 0.7330021015318265, 0.17979296830025934, 0.08298136998473508, 0.43400775343579545, 0.14466925114526516, 0.34498052196178614, 0.066770423605507, 0.16834907610056085, 0.7856290218026174, 0.9887408046224377, 0.3744308234617899, 0.4867600705003269, 0.13105078821162647, 0.8411905046133001, 0.070099208717775, 0.8665384052588074, 0.10194569473633029, 0.8368053917895338, 0.16092411380567959, 0.4369672671047948, 0.17478690684191792, 0.10487214410515075, 0.06991476273676717, 0.2097442882103015, 0.9369959847763865, 0.5592150454506734, 0.31955145454324196, 0.11983179545371572, 0.9416523517654882, 0.2442672093358428, 0.5088900194496726, 0.2239116085578559, 0.8416167104885662, 0.6607257845662057, 0.16518144614155142, 0.17236324814770582, 0.9669097658927857, 0.979872168028177, 0.9774115437005767, 0.6934849847905433, 0.15410777439789852, 0.15410777439789852, 0.9106077781787175, 0.8904254337152745, 0.9588342440425184, 0.9162404025449007, 0.9820551197066966, 0.9309172594272481, 0.8928307361047926, 0.8398830329875104, 0.9140090670896108, 0.6771847717037064, 0.306649707941301, 0.939992286447432, 0.147038156654443, 0.8528213085957694, 0.9181697496532183, 0.9917534178809692, 0.9518773340643064, 0.9863291690405804, 0.9674916107784093, 0.9309173207153683, 0.1596029645556078, 0.03192059291112156, 0.5426500794890665, 0.25536474328897246, 0.25563057830550795, 0.7029840903401468, 0.18985364602830931, 0.23204334514571137, 0.5484660885262269, 0.1012314301343188, 0.8604671561417099, 0.9644148378984916, 0.9742510080850533, 0.9832915278133783, 0.9969835128548986, 0.8398829978301617, 0.9164429536308775, 0.8928309096439941, 0.9844341029176551, 0.13407926831641614, 0.8491686993373022, 0.8728178613973491, 0.7867256628279409, 0.19072137280677354, 0.897780430782131, 0.8977458627946799, 0.8709915367311063, 0.9499088102408291, 0.76908169903929, 0.2286459105251943, 0.8958785336138431, 0.7508744145588511, 0.24135249039391643, 0.9565049346394391, 0.9693269842754154, 0.8904260044388896, 0.22180275773097827, 0.7689162268007247, 0.9950454547647224, 0.2914592264454751, 0.09203975571962372, 0.18407951143924745, 0.4295188600249107, 0.9272537430956819, 0.15229262104423533, 0.5595868401160274, 0.19125119852066763, 0.09208391039883997, 0.4575173135936438, 0.5307200837686268, 0.9495926776414335, 0.08910031619667663, 0.48368743078195886, 0.2673009485900299, 0.1527433991943028, 0.11958773234448704, 0.0797251548963247, 0.7573889715150847, 0.7956629318564086, 0.18083248451282014, 0.9518773398414805, 0.1905153336640397, 0.23814416708004962, 0.571546000992119, 0.12886149778545947, 0.1718153303806126, 0.6872613215224505, 0.9298817031209377, 0.9476280215406311, 0.8704043204712302, 0.0994747794824263, 0.028665547804753982, 0.31532102585229377, 0.057331095609507964, 0.2579899302427858, 0.3296537997546708, 0.9574861200113601, 0.9619379968962655, 0.8904255917478034, 0.9538470614974265, 0.9106074804197016, 0.5445967930730172, 0.4455791943324686, 0.9536213962986251, 0.131985860337304, 0.65992930168652, 0.197978790505956, 0.6814823706841603, 0.3006539870665413, 0.9130922782466554, 0.09835742521055958, 0.277189107411577, 0.11624059343066132, 0.5007287101628487, 0.8656668807336321, 0.06183334862383086, 0.7604610940671552, 0.22366502766681037, 0.9430360832776475, 0.2147618837436854, 0.7301904047285304, 0.9985859721069477, 0.8227752655674693, 0.14519563510014163, 0.9538466459786911, 0.9565048623050537, 0.9619383914125865, 0.19393400413324163, 0.11312816907772429, 0.6464466804441388, 0.04848350103331041, 0.9140092551083984, 0.872817884860703, 0.11425110578460396, 0.7426321875999258, 0.11425110578460396, 0.5379172029464709, 0.0645500643535765, 0.38730038612145906, 0.6507956346625634, 0.12312349844967414, 0.17589071207096307, 0.05276721362128892, 0.8728178532853758, 0.9674915543970602, 0.987756134424172, 0.1398216862207235, 0.279643372441447, 0.11651807185060291, 0.46607228740241163, 0.12412643621967717, 0.09309482716475788, 0.5896005720434666, 0.21722126338443504, 0.9289098405664329, 0.9896458499199777, 0.8657550068638695, 0.0949635938038219, 0.1899271876076438, 0.2848907814114657, 0.4178398127368163, 0.8728099894103428, 0.08312476089622312, 0.9416524240001288, 0.974763063634151, 0.9742513509620973, 0.9643232752890561, 0.862852984456996, 0.0862852984456996, 0.09064080607607511, 0.15106801012679183, 0.7251264486086009, 0.27881158667464284, 0.08578818051527472, 0.6434113538645604, 0.9430361226807101, 0.24816007648138322, 0.7444802294441496, 0.9609076634267384, 0.9726766689728705, 0.9726765425951394, 0.13982279493166966, 0.419468384795009, 0.256341790708061, 0.1864303932422262, 0.947566768588837, 0.6083816510016851, 0.15209541275042127, 0.19011926593802658, 0.05703577978140798, 0.956505398645628, 0.2853933468717057, 0.7005109423214594, 0.979872078558211, 0.9242809681318527, 0.8928308782609173, 0.8583193669329668, 0.1320491333743026, 0.8014745345787834, 0.9759862158955345, 0.8682144098899354, 0.11423873814341255, 0.9130925327340417, 0.1596843912651627, 0.8303588345788461, 0.9565048679213266, 0.974251277652648, 0.8928310095709548, 0.8285283371477935, 0.1462108830260812, 0.8977458301885701, 0.1082684327572, 0.1082684327572, 0.7578790293004, 0.4013764187708521, 0.5877297560573193, 0.9309177052210996, 0.8415851130437774, 0.1677418254287966, 0.11182788361919774, 0.17282491104785103, 0.2999020515242121, 0.23382193847650434, 0.015249256857163327, 0.6227960310647934, 0.29894209491110085, 0.07473552372777521, 0.16778983957858937, 0.11185989305239291, 0.18177232621013847, 0.5453169786304155, 0.11754515695615043, 0.822816098693053, 0.5281475591574488, 0.4599994870081006, 0.152254292617839, 0.10150286174522599, 0.5582657395987429, 0.17763000805414547, 0.21444687227737413, 0.09530972101216628, 0.667168047085164, 0.8213637533554322, 0.18252527852342937, 0.9242810529533511, 0.9396598457723122, 0.7755608128451084, 0.2154335591236412, 0.7925720182467244, 0.19373982668253265, 0.15475406437829006, 0.8124588379860228, 0.8680650374673855, 0.8977460369174025, 0.9929088537408921, 0.9705397112478992, 0.9332123134260135, 0.8398827806020754, 0.20029461809123456, 0.3181149816743137, 0.18851258173292665, 0.09425629086646332, 0.21207665444954246, 0.9726765775883085, 0.9545819927050445, 0.914009202505299, 0.24408789381049129, 0.7322636814314739, 0.24289134687634178, 0.7286740406290253, 0.06374511885258576, 0.19123535655775725, 0.6374511885258575, 0.09561767827887863, 0.9798722842568443, 0.5000112061319598, 0.5000112061319598, 0.941652198661039, 0.2603480784473202, 0.7066590700712977, 0.10633957059783655, 0.8507165647826924, 0.9181699200082957, 0.9309176678996446, 0.9538467697609427, 0.9669097027215299, 0.8415850880228658, 0.32588654193733524, 0.14377347438411847, 0.14377347438411847, 0.3833959316909826, 0.13709242683414963, 0.8617238258146549, 0.11195824110576175, 0.46382699886672724, 0.20792244776784324, 0.2239164822115235, 0.08840711294449699, 0.6483188282596446, 0.20628326353715962, 0.02946903764816566, 0.8518931400844226, 0.12527840295359155, 0.9574447750932631, 0.9130922443574632, 0.9588341228385777, 0.16659903488308728, 0.4240702706114949, 0.09087220084532033, 0.06058146723021355, 0.2423258689208542, 0.9742510074563341, 0.9574859553055184, 0.9790970206320067, 0.7678845108873739, 0.19197112772184347, 0.5569246852142488, 0.42432356968704665, 0.09615239611828479, 0.8012699676523731, 0.09615239611828479, 0.759290118589819, 0.21694003388280544, 0.6502406669666784, 0.12192012505625219, 0.067733402809029, 0.1490134861798638, 0.9274242644507906, 0.9681130030807611, 0.9118938144696522, 0.8977805963317042, 0.9736612012515651, 0.9352268593414214, 0.7309048054638457, 0.26103743052280204, 0.8014744827396879, 0.990005192261992, 0.6748825367125758, 0.30369714152065913, 0.9351900583254458, 0.15868755667008125, 0.03967188916752031, 0.3332438690071706, 0.25390009067213, 0.2062938236711056, 0.8398828484924254, 0.29752459562614947, 0.5950491912522989, 0.09917486520871649, 0.25755679636575174, 0.11446968727366744, 0.6295832800051709, 0.13317139557016494, 0.5859541405087256, 0.1598056746841979, 0.10653711645613194, 0.9561204260174211, 0.9940122412155968, 0.9880920130162617, 0.9299757073051769, 0.12406295030848231, 0.8684406521593762, 0.841585165678472, 0.13185274640636196, 0.1098772886719683, 0.5713619010942351, 0.08790183093757464, 0.1098772886719683, 0.7847503567549369, 0.18684532303688972, 0.6615531788046713, 0.17072340098185068, 0.160053188420485, 0.9162407198981737, 0.9900104563297532, 0.12467667867985024, 0.8571521659239705, 0.27971699479633527, 0.32167454401578555, 0.1118867979185341, 0.2657311450565185, 0.27490679311819505, 0.1889984202687591, 0.03436334913977438, 0.5154502370966157, 0.07292562629630746, 0.4618622998766139, 0.4375537577778448, 0.9332087944424208], \"Term\": [\"10\", \"10\", \"10\", \"16\", \"2013\", \"2014\", \"2015\", \"2015\", \"abc\", \"abc\", \"abc\", \"abortion\", \"abuse\", \"abuse\", \"accommodation\", \"accused\", \"admits\", \"admits\", \"afl\", \"afl\", \"africa\", \"aged\", \"air\", \"air\", \"aired\", \"alleged\", \"alleged\", \"am1\", \"analysis\", \"announces\", \"announces\", \"announces\", \"announces\", \"appeal\", \"appeal\", \"appeal\", \"arabia\", \"arrest\", \"arrested\", \"arrested\", \"arrests\", \"asic\", \"assault\", \"asylum\", \"asylum\", \"attack\", \"attack\", \"attack\", \"august\", \"australia\", \"australia\", \"australia\", \"australia\", \"australia\", \"australian\", \"australian\", \"australian\", \"australian\", \"australian\", \"australian\", \"award\", \"bail\", \"bali\", \"ban\", \"ban\", \"ban\", \"banned\", \"barnett\", \"bashing\", \"begins\", \"begins\", \"begins\", \"ben\", \"better\", \"better\", \"birthday\", \"blair\", \"blaze\", \"blaze\", \"blog\", \"blood\", \"blues\", \"blues\", \"board\", \"boat\", \"boat\", \"bomber\", \"bombing\", \"boost\", \"boost\", \"boost\", \"boost\", \"brawl\", \"breakfast\", \"broken\", \"broken\", \"budget\", \"budget\", \"budget\", \"build\", \"burn\", \"bush\", \"bush\", \"bush\", \"business\", \"business\", \"business\", \"business\", \"business\", \"calls\", \"calls\", \"calls\", \"camp\", \"canberra\", \"canberra\", \"canberra\", \"canberra\", \"car\", \"car\", \"car\", \"car\", \"case\", \"case\", \"case\", \"cbd\", \"centre\", \"centre\", \"centre\", \"changes\", \"changes\", \"changes\", \"changes\", \"charge\", \"charge\", \"charge\", \"charged\", \"charges\", \"charges\", \"child\", \"child\", \"childcare\", \"china\", \"china\", \"china\", \"china\", \"city\", \"city\", \"city\", \"city\", \"claims\", \"claims\", \"claims\", \"claims\", \"cleared\", \"climate\", \"climate\", \"climate\", \"clinton\", \"close\", \"close\", \"closer\", \"closes\", \"closes\", \"coal\", \"coal\", \"coast\", \"coast\", \"commission\", \"commission\", \"community\", \"community\", \"community\", \"company\", \"company\", \"company\", \"complex\", \"considers\", \"continue\", \"continue\", \"continue\", \"continue\", \"continues\", \"control\", \"control\", \"control\", \"council\", \"council\", \"council\", \"council\", \"council\", \"country\", \"court\", \"court\", \"cox\", \"crash\", \"crash\", \"crews\", \"cup\", \"cup\", \"cuts\", \"cuts\", \"cuts\", \"cuts\", \"cyclone\", \"cyclone\", \"date\", \"day\", \"dead\", \"dead\", \"dead\", \"deal\", \"deal\", \"death\", \"death\", \"death\", \"death\", \"death\", \"defends\", \"dies\", \"dies\", \"dies\", \"dockers\", \"dog\", \"dog\", \"drinking\", \"drop\", \"drop\", \"drought\", \"drought\", \"drug\", \"drug\", \"drug\", \"drug\", \"drug\", \"dump\", \"ease\", \"election\", \"election\", \"emergency\", \"emergency\", \"emergency\", \"end\", \"end\", \"end\", \"entertainment\", \"event\", \"exploration\", \"explosion\", \"face\", \"face\", \"face\", \"facebook\", \"faces\", \"faces\", \"farm\", \"farm\", \"farm\", \"farmers\", \"farmers\", \"fast\", \"fears\", \"fears\", \"fears\", \"fears\", \"fears\", \"festival\", \"festival\", \"film\", \"film\", \"firefighters\", \"firefighters\", \"fires\", \"flood\", \"flood\", \"fly\", \"forward\", \"france\", \"funding\", \"funding\", \"funding\", \"funding\", \"future\", \"future\", \"future\", \"future\", \"gas\", \"gas\", \"gas\", \"gas\", \"gaza\", \"giant\", \"global\", \"global\", \"gold\", \"government\", \"government\", \"government\", \"govt\", \"govt\", \"govt\", \"govt\", \"grain\", \"grand\", \"greens\", \"greens\", \"greens\", \"group\", \"group\", \"guilty\", \"gun\", \"happy\", \"hawks\", \"health\", \"health\", \"health\", \"health\", \"hears\", \"heavy\", \"held\", \"high\", \"high\", \"high\", \"hit\", \"hit\", \"hit\", \"home\", \"home\", \"home\", \"home\", \"hot\", \"hot\", \"hour\", \"house\", \"house\", \"house\", \"hub\", \"hub\", \"hundreds\", \"hundreds\", \"hunt\", \"hunt\", \"indigenous\", \"indigenous\", \"indigenous\", \"indigenous\", \"indigenous\", \"industrial\", \"industry\", \"industry\", \"industry\", \"infrastructure\", \"injured\", \"injured\", \"injured\", \"insurance\", \"interview\", \"interview\", \"interview\", \"invasion\", \"ir\", \"iran\", \"iraq\", \"iraq\", \"iraq\", \"iron\", \"irrigators\", \"israeli\", \"jackson\", \"jailed\", \"january\", \"jets\", \"jobless\", \"june\", \"killed\", \"killed\", \"killing\", \"kills\", \"kills\", \"knights\", \"land\", \"leadership\", \"league\", \"legal\", \"licence\", \"life\", \"life\", \"life\", \"life\", \"live\", \"live\", \"local\", \"local\", \"local\", \"long\", \"long\", \"lost\", \"major\", \"make\", \"man\", \"mandatory\", \"manslaughter\", \"mariners\", \"market\", \"markets\", \"markets\", \"mass\", \"mayor\", \"mayor\", \"mayors\", \"mean\", \"middle\", \"miners\", \"mining\", \"mining\", \"ministers\", \"missing\", \"missing\", \"monday\", \"money\", \"moore\", \"mp\", \"mp\", \"murder\", \"national\", \"national\", \"national\", \"national\", \"needs\", \"new\", \"new\", \"new\", \"new\", \"news\", \"news\", \"night\", \"north\", \"north\", \"north\", \"north\", \"northern\", \"northern\", \"northern\", \"nrl\", \"nrl\", \"nrn\", \"nsw\", \"nsw\", \"nsw\", \"nz\", \"nz\", \"nz\", \"office\", \"officer\", \"oil\", \"oil\", \"open\", \"open\", \"open\", \"open\", \"open\", \"opening\", \"options\", \"ore\", \"overseas\", \"pain\", \"pakistan\", \"pakistan\", \"parents\", \"parliament\", \"parliament\", \"parliament\", \"pay\", \"pay\", \"phoenix\", \"plan\", \"plan\", \"plan\", \"plan\", \"planned\", \"planned\", \"plant\", \"plant\", \"plays\", \"podcast\", \"podcast\", \"police\", \"poll\", \"poll\", \"polls\", \"ponting\", \"porn\", \"power\", \"power\", \"power\", \"power\", \"presidential\", \"press\", \"price\", \"price\", \"price\", \"prices\", \"prices\", \"prices\", \"probe\", \"probe\", \"probe\", \"probe\", \"process\", \"prompts\", \"public\", \"push\", \"push\", \"push\", \"push\", \"puts\", \"puts\", \"puts\", \"puts\", \"qantas\", \"qld\", \"queens\", \"queensland\", \"queensland\", \"queensland\", \"queensland\", \"questions\", \"questions\", \"quit\", \"rain\", \"rape\", \"rate\", \"reach\", \"reach\", \"ready\", \"ready\", \"ready\", \"record\", \"record\", \"record\", \"reef\", \"rejects\", \"rejects\", \"released\", \"remains\", \"repair\", \"report\", \"report\", \"report\", \"report\", \"rescued\", \"residents\", \"residents\", \"residents\", \"residents\", \"results\", \"return\", \"return\", \"revamp\", \"reveal\", \"revealed\", \"reveals\", \"reveals\", \"richard\", \"rio\", \"rise\", \"rise\", \"rising\", \"risk\", \"risk\", \"roar\", \"robbery\", \"roosters\", \"royal\", \"royal\", \"rspca\", \"rudd\", \"rudd\", \"rudd\", \"rural\", \"rural\", \"sacked\", \"saudi\", \"says\", \"says\", \"says\", \"says\", \"says\", \"says\", \"scheme\", \"scheme\", \"scheme\", \"school\", \"school\", \"school\", \"school\", \"sea\", \"sea\", \"search\", \"search\", \"season\", \"season\", \"season\", \"season\", \"second\", \"second\", \"second\", \"seek\", \"seek\", \"seized\", \"september\", \"set\", \"set\", \"sex\", \"sex\", \"sexual\", \"sexual\", \"sharapova\", \"shoot\", \"shooting\", \"siege\", \"sign\", \"slide\", \"south\", \"south\", \"south\", \"south\", \"south\", \"spending\", \"stabbing\", \"stage\", \"start\", \"start\", \"stay\", \"stay\", \"stop\", \"stop\", \"stop\", \"stop\", \"street\", \"strike\", \"strike\", \"struggle\", \"students\", \"students\", \"suicide\", \"suicide\", \"sunshine\", \"surf\", \"surgery\", \"suspicious\", \"swine\", \"sydney\", \"sydney\", \"sydney\", \"sydney\", \"takes\", \"takes\", \"talks\", \"talks\", \"talks\", \"talks\", \"team\", \"team\", \"team\", \"team\", \"teen\", \"teen\", \"teens\", \"territory\", \"terrorism\", \"test\", \"test\", \"test\", \"test\", \"test\", \"thai\", \"thursday\", \"time\", \"toll\", \"toll\", \"tour\", \"tour\", \"trade\", \"trade\", \"trade\", \"train\", \"train\", \"trial\", \"trial\", \"trial\", \"trial\", \"tsunami\", \"tuesday\", \"university\", \"update\", \"upgrade\", \"uranium\", \"urged\", \"urged\", \"vegas\", \"vic\", \"victims\", \"victims\", \"vietnam\", \"wa\", \"wa\", \"wa\", \"wa\", \"wa\", \"wage\", \"wants\", \"wants\", \"wants\", \"warning\", \"warning\", \"warning\", \"warns\", \"warns\", \"warns\", \"warns\", \"waste\", \"water\", \"way\", \"wednesday\", \"week\", \"week\", \"weeks\", \"west\", \"west\", \"west\", \"west\", \"west\", \"wild\", \"wild\", \"win\", \"win\", \"win\", \"wollongong\", \"woman\", \"workers\", \"workers\", \"world\", \"world\", \"world\", \"world\", \"year\", \"year\", \"year\", \"year\", \"years\", \"years\", \"years\", \"zealand\"]}, \"R\": 30, \"lambda.step\": 0.01, \"plot.opts\": {\"xlab\": \"PC1\", \"ylab\": \"PC2\"}, \"topic.order\": [7, 6, 2, 3, 4, 1, 5]};\n",
       "\n",
       "function LDAvis_load_lib(url, callback){\n",
       "  var s = document.createElement('script');\n",
       "  s.src = url;\n",
       "  s.async = true;\n",
       "  s.onreadystatechange = s.onload = callback;\n",
       "  s.onerror = function(){console.warn(\"failed to load library \" + url);};\n",
       "  document.getElementsByTagName(\"head\")[0].appendChild(s);\n",
       "}\n",
       "\n",
       "if(typeof(LDAvis) !== \"undefined\"){\n",
       "   // already loaded: just create the visualization\n",
       "   !function(LDAvis){\n",
       "       new LDAvis(\"#\" + \"ldavis_el2125452165998802241365685\", ldavis_el2125452165998802241365685_data);\n",
       "   }(LDAvis);\n",
       "}else if(typeof define === \"function\" && define.amd){\n",
       "   // require.js is available: use it to load d3/LDAvis\n",
       "   require.config({paths: {d3: \"https://cdnjs.cloudflare.com/ajax/libs/d3/3.5.5/d3.min\"}});\n",
       "   require([\"d3\"], function(d3){\n",
       "      window.d3 = d3;\n",
       "      LDAvis_load_lib(\"https://cdn.rawgit.com/bmabey/pyLDAvis/files/ldavis.v1.0.0.js\", function(){\n",
       "        new LDAvis(\"#\" + \"ldavis_el2125452165998802241365685\", ldavis_el2125452165998802241365685_data);\n",
       "      });\n",
       "    });\n",
       "}else{\n",
       "    // require.js not available: dynamically load d3 & LDAvis\n",
       "    LDAvis_load_lib(\"https://cdnjs.cloudflare.com/ajax/libs/d3/3.5.5/d3.min.js\", function(){\n",
       "         LDAvis_load_lib(\"https://cdn.rawgit.com/bmabey/pyLDAvis/files/ldavis.v1.0.0.js\", function(){\n",
       "                 new LDAvis(\"#\" + \"ldavis_el2125452165998802241365685\", ldavis_el2125452165998802241365685_data);\n",
       "            })\n",
       "         });\n",
       "}\n",
       "</script>"
      ],
      "text/plain": [
       "PreparedData(topic_coordinates=               x          y  topics  cluster       Freq\n",
       "topic                                                  \n",
       "6     -29.594002  60.112713       1        1  16.342996\n",
       "5     -45.996586  11.891685       2        1  15.568000\n",
       "1      20.368856  70.019325       3        1  14.846018\n",
       "2      53.928768  31.704309       4        1  14.313389\n",
       "3     -12.437127 -26.423267       5        1  13.316626\n",
       "0       3.965971  21.797720       6        1  12.985313\n",
       "4      37.524284 -16.517805       7        1  12.627657, topic_info=           Term        Freq       Total Category  logprob  loglift\n",
       "4342     police  346.000000  346.000000  Default  30.0000  30.0000\n",
       "3562        man  273.000000  273.000000  Default  29.0000  29.0000\n",
       "6313      water  126.000000  126.000000  Default  28.0000  28.0000\n",
       "1436      court  169.000000  169.000000  Default  27.0000  27.0000\n",
       "3921        new  282.000000  282.000000  Default  26.0000  26.0000\n",
       "...         ...         ...         ...      ...      ...      ...\n",
       "4031       open   23.497866   69.770165   Topic7  -5.6736   0.9810\n",
       "6252         wa   26.386733  126.033827   Topic7  -5.5576   0.5056\n",
       "929    business   23.105335   67.138802   Topic7  -5.6904   1.0026\n",
       "3921        new   26.298345  282.351172   Topic7  -5.5610  -0.3044\n",
       "3038  interview   23.765109  139.240820   Topic7  -5.6623   0.3013\n",
       "\n",
       "[457 rows x 6 columns], token_table=      Topic      Freq     Term\n",
       "term                          \n",
       "6         3  0.191457       10\n",
       "6         6  0.574370       10\n",
       "6         7  0.191457       10\n",
       "26        7  0.930917       16\n",
       "39        7  0.977411     2013\n",
       "...     ...       ...      ...\n",
       "6484      7  0.515450     year\n",
       "6485      2  0.072926    years\n",
       "6485      3  0.461862    years\n",
       "6485      6  0.437554    years\n",
       "6498      3  0.933209  zealand\n",
       "\n",
       "[753 rows x 3 columns], R=30, lambda_step=0.01, plot_opts={'xlab': 'PC1', 'ylab': 'PC2'}, topic_order=[7, 6, 2, 3, 4, 1, 5])"
      ]
     },
     "execution_count": 78,
     "metadata": {},
     "output_type": "execute_result"
    }
   ],
   "source": [
    "panel"
   ]
  },
  {
   "cell_type": "markdown",
   "metadata": {},
   "source": [
    "### Some Comments On The Graphic     \n",
    "\n",
    "- By selecting a particular term on the right, we can see which topic(s) it belongs.    \n",
    "- Vice-versa, by choosing a topic on the left, we can see all the terms, from most to least relevant term.  "
   ]
  },
  {
   "cell_type": "markdown",
   "metadata": {},
   "source": [
    "# Congratulations ! "
   ]
  },
  {
   "cell_type": "code",
   "execution_count": null,
   "metadata": {},
   "outputs": [],
   "source": []
  }
 ],
 "metadata": {
  "kernelspec": {
   "display_name": "Python 3",
   "language": "python",
   "name": "python3"
  },
  "language_info": {
   "codemirror_mode": {
    "name": "ipython",
    "version": 3
   },
   "file_extension": ".py",
   "mimetype": "text/x-python",
   "name": "python",
   "nbconvert_exporter": "python",
   "pygments_lexer": "ipython3",
   "version": "3.6.10"
  }
 },
 "nbformat": 4,
 "nbformat_minor": 4
}
